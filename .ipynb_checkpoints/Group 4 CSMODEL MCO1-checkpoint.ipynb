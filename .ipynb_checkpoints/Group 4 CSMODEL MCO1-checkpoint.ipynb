{
 "cells": [
  {
   "cell_type": "markdown",
   "metadata": {},
   "source": [
    "# CSMODEL S11 | Project Phase 1\n",
    "This notebook is the work of, Group 4, consisting of the following members:\n",
    "\n",
    "* CARNEY, JOHN PAUL COMPANIA\n",
    "* GUERRRERO, MIGUEL ALFONSO DAVID\n",
    "* REINANTE, CHRISTIAN VICTOR GO\n",
    "* SALVADOR, JARYLL FRANCIS PENA"
   ]
  },
  {
   "cell_type": "markdown",
   "metadata": {},
   "source": [
    "## Dataset Description\n",
    "This project makes use of the [Online Gaming Anxiety Data Set](https://www.kaggle.com/datasets/divyansh22/online-gaming-anxiety-data). It contains responses gathered from a worldwide survey of gamers. Included in this survey are psychological assessments for anxiety, social phobia, and life satisfaction. It also gathered demographic and gaming-related information. Marian Sauter and Dejan Draschkow originally compiled the data.\n"
   ]
  },
  {
   "cell_type": "markdown",
   "metadata": {},
   "source": [
    "## Importing Libraries\n",
    "Before proceeding, we will import the necessary libraries which we will use to provide a general overview of the dataset."
   ]
  },
  {
   "cell_type": "code",
   "execution_count": null,
   "metadata": {},
   "outputs": [],
   "source": [
    "import numpy as np\n",
    "import pandas as pd"
   ]
  },
  {
   "cell_type": "markdown",
   "metadata": {},
   "source": [
    "## Importing Libraries\n",
    "We then load the dataset as follows:"
   ]
  },
  {
   "cell_type": "code",
   "execution_count": null,
   "metadata": {},
   "outputs": [],
   "source": [
    "gamingAnxiety_df = pd.read_csv(\"GamingStudy_data.csv\")\n",
    "gamingAnxiety_df.head()"
   ]
  },
  {
   "cell_type": "markdown",
   "metadata": {},
   "source": [
    "\n",
    "## Process and Implications of Data Collection\n",
    "The data was gathered by means of a survey that was distributed to gamers globally. The survey had a range of inquiries commonly employed by psychologists to assess levels of anxiety, social phobia, and life satisfaction. Standardized psychological assessment instruments, including the General Anxiety Disorder Assessment (GAD), Satisfaction with Life Scale (SWL), and Social Phobia Inventory (SPIN) questionnaires, and inquiries regarding gaming habits and general demographics were included in the survey. \n",
    "\n",
    "Though not explicitly mentioned, it is extremely likely that this survey was conducted online, given that online surveys are commonly used when reaching a worldwide audience, especially gamers. The dataset description also includes *Reddit* as an example for the **Reference** variable, indicating the website was used as an avenue to conduct the survey as well. Assuming the data was collected as such, this presents several implications:\n",
    "\n",
    "- **Sample Composition**: Because the data was collected through an online survey, it may over-represent individuals active in online gaming communities or gamers who primarily play online multiplayer games. As a result, those who do not regularly use the internet, are inactive in online gaming communities, or those who play single-player games exclusively may be underrepresented.\n",
    "\n",
    "- **Voluntary Response Bias**: The data relies on self-reported responses, which can be subject to biases such as inaccurate self-assessment by the respondent or social desirability bias. Respondents with stronger views also may have been more likely to participate in the first place because of this."
   ]
  },
  {
   "cell_type": "markdown",
   "metadata": {},
   "source": [
    "**Each row** represents a single survey response from a gamer, and **each column** represents a variable collected in the survey. The dataset contains **13464 observations** in total, and there are **55 variables** in the dataset. We can verify this, and also check each individual variable using the info() method:"
   ]
  },
  {
   "cell_type": "code",
   "execution_count": null,
   "metadata": {},
   "outputs": [],
   "source": [
    "gamingAnxiety_df.info()"
   ]
  },
  {
   "cell_type": "markdown",
   "metadata": {},
   "source": [
    "### Variable Descriptions\r\n",
    "\r\n",
    "#### Demographic Information:\r\n",
    "- **S. No.:** Serial number of the response.\r\n",
    "- **Timestamp:** Time at which the survey was completed.\r\n",
    "- **Age:** Age of the respondent.\r\n",
    "- **Gender:** Gender of the respondent.\r\n",
    "- **Nationality:** Nationality of the respondent.\r\n",
    "- **Education:** Education level of the respondent.\r\n",
    "- **Employment:** Employment status of the respondent.\r\n",
    "- **Income:** Income level of the respondent.\r\n",
    "- **Marital_status:** Marital status of the respondent.\r\n",
    "- **Children:** Number of children.\r\n",
    "- **Birthplace:** Birthplace of the respondent.\r\n",
    "- **Residence:** Current residence of the respondent.\r\n",
    "- **Reference:** How the respondent found the survey\n",
    "- **accept:** Acceptance of the survey.\n",
    "- **Residence_ISO3:** ISO3 code of the respondent's residence.\n",
    "- **Birthplace_ISO3:** ISO3 code of the respondent's birthplace.(e.g., Reddit).\r\n",
    "\r\n",
    "#### Psychological Assessment:\r\n",
    "- **GAD1 to GAD7:** Responses to Generalized Anxiety Disorder (GAD) questions.\r\n",
    "- **GADE:** Perceived difficulty in completing GAD questions.\r\n",
    "- **SWL1 to SWL5:** Responses to Satisfaction with Life Scale (SWL) questions.\r\n",
    "- **SWLE:** Perceived difficulty in completing SWL questions.\r\n",
    "- **SPIN1 to SPIN17:** Responses to Social Phobia Inventory (SPIN) questions.\r\n",
    "- **SPINE:** Perceived difficulty in completing SPIN questions.\r\n",
    "- **Anxiety_score:** Computed anxiety score based on GAD responses.\r\n",
    "- **Satisfaction_with_life_score:** Computed satisfaction with life score based on SWL responses.\r\n",
    "- **Social_phobia_score:** Computed social phobia score based on SPIN responses.\r\n",
    "- **GAD_T:** Total GAD score.\r\n",
    "- **SWL_T:** Total SWL score.\r\n",
    "- **SPIN_T:** Total SPIN score.\r\n",
    "\r\n",
    "#### Gaming Habits:\r\n",
    "- **Gaming_hours_per_week:** Hours spent gaming per week.\r\n",
    "- **Gaming_hours_per_day:** Hours spent gaming per day.\r\n",
    "- **Device:** Preferred gaming device (e.g., PC, console).\r\n",
    "- **Primary_game:** Most played game.\r\n",
    "- **Game_genre:** Genre of the primary game.\r\n",
    "- **Primary_platform:** Platform of the primary game.\r\n",
    "- **Secondary_game:** Second most played game.\r\n",
    "- **Secondary_genre:** Genre of the secondary game.\r\n",
    "- **Secondary_platform:** Platform of the secondary game.\r\n",
    "- **Tertiary_game:** Third most played game.\r\n",
    "- **Tertiary_genre:** Genre of the tertiary game.\r\n",
    "- **Tertiary_platform:** Platform of the tertiary game.\r\n",
    "- **Playstyle:** Playstyle pSO3:** ISO3 code of the respondent's birthplace.\r\n"
   ]
  },
  {
   "cell_type": "code",
   "execution_count": null,
   "metadata": {},
   "outputs": [],
   "source": []
  }
 ],
 "metadata": {
  "kernelspec": {
   "display_name": "Python 3 (ipykernel)",
   "language": "python",
   "name": "python3"
  },
  "language_info": {
   "codemirror_mode": {
    "name": "ipython",
    "version": 3
   },
   "file_extension": ".py",
   "mimetype": "text/x-python",
   "name": "python",
   "nbconvert_exporter": "python",
   "pygments_lexer": "ipython3",
   "version": "3.11.7"
  }
 },
 "nbformat": 4,
 "nbformat_minor": 4
}
