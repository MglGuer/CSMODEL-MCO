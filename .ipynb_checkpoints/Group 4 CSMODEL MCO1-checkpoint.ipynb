{
 "cells": [
  {
   "cell_type": "markdown",
   "metadata": {},
   "source": [
    "# CSMODEL S11 | Project Phase 1\n",
    "This notebook is the work of Group 4, consisting of the following members:\n",
    "\n",
    "* CARNEY, JOHN PAUL COMPANIA\n",
    "* GUERRRERO, MIGUEL ALFONSO DAVID\n",
    "* REINANTE, CHRISTIAN VICTOR GO\n",
    "* SALVADOR, JARYLL FRANCIS PENA"
   ]
  },
  {
   "cell_type": "markdown",
   "metadata": {},
   "source": [
    "## Dataset Description\n",
    "This project makes use of the [Online Gaming Anxiety Data Set](https://www.kaggle.com/datasets/divyansh22/online-gaming-anxiety-data). It contains responses gathered from a worldwide survey of gamers. Included in this survey are psychological assessments for anxiety, social phobia, and life satisfaction. It also gathered demographic and gaming-related information. Marian Sauter and Dejan Draschkow originally compiled the data.\n"
   ]
  },
  {
   "cell_type": "markdown",
   "metadata": {},
   "source": [
    "## Importing Libraries\n",
    "Before proceeding, we will import the necessary libraries which we will use to provide a general overview of the dataset."
   ]
  },
  {
   "cell_type": "code",
   "execution_count": 14,
   "metadata": {},
   "outputs": [],
   "source": [
    "import numpy as np\n",
    "import pandas as pd\n",
    "import matplotlib.pyplot as plt\n",
    "import seaborn as sns"
   ]
  },
  {
   "cell_type": "markdown",
   "metadata": {},
   "source": [
    "## Importing Libraries\n",
    "We then load the dataset as follows:"
   ]
  },
  {
   "cell_type": "code",
   "execution_count": 15,
   "metadata": {},
   "outputs": [
    {
     "data": {
      "text/html": [
       "<div>\n",
       "<style scoped>\n",
       "    .dataframe tbody tr th:only-of-type {\n",
       "        vertical-align: middle;\n",
       "    }\n",
       "\n",
       "    .dataframe tbody tr th {\n",
       "        vertical-align: top;\n",
       "    }\n",
       "\n",
       "    .dataframe thead th {\n",
       "        text-align: right;\n",
       "    }\n",
       "</style>\n",
       "<table border=\"1\" class=\"dataframe\">\n",
       "  <thead>\n",
       "    <tr style=\"text-align: right;\">\n",
       "      <th></th>\n",
       "      <th>S. No.</th>\n",
       "      <th>Timestamp</th>\n",
       "      <th>GAD1</th>\n",
       "      <th>GAD2</th>\n",
       "      <th>GAD3</th>\n",
       "      <th>GAD4</th>\n",
       "      <th>GAD5</th>\n",
       "      <th>GAD6</th>\n",
       "      <th>GAD7</th>\n",
       "      <th>GADE</th>\n",
       "      <th>...</th>\n",
       "      <th>Birthplace</th>\n",
       "      <th>Residence</th>\n",
       "      <th>Reference</th>\n",
       "      <th>Playstyle</th>\n",
       "      <th>accept</th>\n",
       "      <th>GAD_T</th>\n",
       "      <th>SWL_T</th>\n",
       "      <th>SPIN_T</th>\n",
       "      <th>Residence_ISO3</th>\n",
       "      <th>Birthplace_ISO3</th>\n",
       "    </tr>\n",
       "  </thead>\n",
       "  <tbody>\n",
       "    <tr>\n",
       "      <th>0</th>\n",
       "      <td>1</td>\n",
       "      <td>42052.00437</td>\n",
       "      <td>0</td>\n",
       "      <td>0</td>\n",
       "      <td>0</td>\n",
       "      <td>0</td>\n",
       "      <td>1</td>\n",
       "      <td>0</td>\n",
       "      <td>0</td>\n",
       "      <td>Not difficult at all</td>\n",
       "      <td>...</td>\n",
       "      <td>USA</td>\n",
       "      <td>USA</td>\n",
       "      <td>Reddit</td>\n",
       "      <td>Singleplayer</td>\n",
       "      <td>Accept</td>\n",
       "      <td>1</td>\n",
       "      <td>23</td>\n",
       "      <td>5.0</td>\n",
       "      <td>USA</td>\n",
       "      <td>USA</td>\n",
       "    </tr>\n",
       "    <tr>\n",
       "      <th>1</th>\n",
       "      <td>2</td>\n",
       "      <td>42052.00680</td>\n",
       "      <td>1</td>\n",
       "      <td>2</td>\n",
       "      <td>2</td>\n",
       "      <td>2</td>\n",
       "      <td>0</td>\n",
       "      <td>1</td>\n",
       "      <td>0</td>\n",
       "      <td>Somewhat difficult</td>\n",
       "      <td>...</td>\n",
       "      <td>USA</td>\n",
       "      <td>USA</td>\n",
       "      <td>Reddit</td>\n",
       "      <td>Multiplayer - online - with strangers</td>\n",
       "      <td>Accept</td>\n",
       "      <td>8</td>\n",
       "      <td>16</td>\n",
       "      <td>33.0</td>\n",
       "      <td>USA</td>\n",
       "      <td>USA</td>\n",
       "    </tr>\n",
       "    <tr>\n",
       "      <th>2</th>\n",
       "      <td>3</td>\n",
       "      <td>42052.03860</td>\n",
       "      <td>0</td>\n",
       "      <td>2</td>\n",
       "      <td>2</td>\n",
       "      <td>0</td>\n",
       "      <td>0</td>\n",
       "      <td>3</td>\n",
       "      <td>1</td>\n",
       "      <td>Not difficult at all</td>\n",
       "      <td>...</td>\n",
       "      <td>Germany</td>\n",
       "      <td>Germany</td>\n",
       "      <td>Reddit</td>\n",
       "      <td>Singleplayer</td>\n",
       "      <td>Accept</td>\n",
       "      <td>8</td>\n",
       "      <td>17</td>\n",
       "      <td>31.0</td>\n",
       "      <td>DEU</td>\n",
       "      <td>DEU</td>\n",
       "    </tr>\n",
       "    <tr>\n",
       "      <th>3</th>\n",
       "      <td>4</td>\n",
       "      <td>42052.06804</td>\n",
       "      <td>0</td>\n",
       "      <td>0</td>\n",
       "      <td>0</td>\n",
       "      <td>0</td>\n",
       "      <td>0</td>\n",
       "      <td>0</td>\n",
       "      <td>0</td>\n",
       "      <td>Not difficult at all</td>\n",
       "      <td>...</td>\n",
       "      <td>USA</td>\n",
       "      <td>USA</td>\n",
       "      <td>Reddit</td>\n",
       "      <td>Multiplayer - online - with online acquaintanc...</td>\n",
       "      <td>Accept</td>\n",
       "      <td>0</td>\n",
       "      <td>17</td>\n",
       "      <td>11.0</td>\n",
       "      <td>USA</td>\n",
       "      <td>USA</td>\n",
       "    </tr>\n",
       "    <tr>\n",
       "      <th>4</th>\n",
       "      <td>5</td>\n",
       "      <td>42052.08948</td>\n",
       "      <td>2</td>\n",
       "      <td>1</td>\n",
       "      <td>2</td>\n",
       "      <td>2</td>\n",
       "      <td>2</td>\n",
       "      <td>3</td>\n",
       "      <td>2</td>\n",
       "      <td>Very difficult</td>\n",
       "      <td>...</td>\n",
       "      <td>USA</td>\n",
       "      <td>South Korea</td>\n",
       "      <td>Reddit</td>\n",
       "      <td>Multiplayer - online - with strangers</td>\n",
       "      <td>Accept</td>\n",
       "      <td>14</td>\n",
       "      <td>14</td>\n",
       "      <td>13.0</td>\n",
       "      <td>KOR</td>\n",
       "      <td>USA</td>\n",
       "    </tr>\n",
       "  </tbody>\n",
       "</table>\n",
       "<p>5 rows × 55 columns</p>\n",
       "</div>"
      ],
      "text/plain": [
       "   S. No.    Timestamp  GAD1  GAD2  GAD3  GAD4  GAD5  GAD6  GAD7  \\\n",
       "0       1  42052.00437     0     0     0     0     1     0     0   \n",
       "1       2  42052.00680     1     2     2     2     0     1     0   \n",
       "2       3  42052.03860     0     2     2     0     0     3     1   \n",
       "3       4  42052.06804     0     0     0     0     0     0     0   \n",
       "4       5  42052.08948     2     1     2     2     2     3     2   \n",
       "\n",
       "                   GADE  ...  Birthplace    Residence  Reference  \\\n",
       "0  Not difficult at all  ...         USA          USA     Reddit   \n",
       "1    Somewhat difficult  ...         USA          USA     Reddit   \n",
       "2  Not difficult at all  ...     Germany      Germany     Reddit   \n",
       "3  Not difficult at all  ...         USA          USA     Reddit   \n",
       "4        Very difficult  ...         USA  South Korea     Reddit   \n",
       "\n",
       "                                           Playstyle  accept GAD_T SWL_T  \\\n",
       "0                                       Singleplayer  Accept     1    23   \n",
       "1              Multiplayer - online - with strangers  Accept     8    16   \n",
       "2                                       Singleplayer  Accept     8    17   \n",
       "3  Multiplayer - online - with online acquaintanc...  Accept     0    17   \n",
       "4              Multiplayer - online - with strangers  Accept    14    14   \n",
       "\n",
       "   SPIN_T Residence_ISO3 Birthplace_ISO3  \n",
       "0     5.0            USA             USA  \n",
       "1    33.0            USA             USA  \n",
       "2    31.0            DEU             DEU  \n",
       "3    11.0            USA             USA  \n",
       "4    13.0            KOR             USA  \n",
       "\n",
       "[5 rows x 55 columns]"
      ]
     },
     "execution_count": 15,
     "metadata": {},
     "output_type": "execute_result"
    }
   ],
   "source": [
    "gamingAnxiety_df = pd.read_csv(\"GamingStudy_data.csv\")\n",
    "gamingAnxiety_df.head()"
   ]
  },
  {
   "cell_type": "markdown",
   "metadata": {},
   "source": [
    "## Process and Implications of Data Collection\n",
    "The data was gathered by means of a survey that was distributed to gamers globally. The survey had a range of inquiries commonly employed by psychologists to assess levels of anxiety, social phobia, and life satisfaction. Standardized psychological assessment instruments, including the General Anxiety Disorder Assessment (GAD), Satisfaction with Life Scale (SWL), and Social Phobia Inventory (SPIN) questionnaires, and inquiries regarding gaming habits and general demographics were included in the survey. \n",
    "\n",
    "Though not explicitly mentioned, it is extremely likely that this survey was conducted online, given that online surveys are commonly used when reaching a worldwide audience, especially gamers. The dataset description also includes *Reddit* as an example for the **Reference** variable, indicating the website was used as an avenue to conduct the survey as well. Assuming the data was collected as such, this presents several implications:\n",
    "\n",
    "- **Sample Composition**: Because the data was collected through an online survey, it may over-represent individuals active in online gaming communities or gamers who primarily play online multiplayer games. As a result, those who do not regularly use the internet, are inactive in online gaming communities, or those who play single-player games exclusively may be underrepresented.\n",
    "\n",
    "- **Voluntary Response Bias**: The data relies on self-reported responses, which can be subject to biases such as inaccurate self-assessment by the respondent or social desirability bias. Respondents with stronger views also may have been more likely to participate in the first place because of this."
   ]
  },
  {
   "cell_type": "markdown",
   "metadata": {},
   "source": [
    "**Each row** represents a single survey response from a gamer, and **each column** represents a variable collected in the survey. The dataset contains **13464 observations** in total, and there are **55 variables** in the dataset. We can verify this, and also check each individual variable using the info() method:"
   ]
  },
  {
   "cell_type": "code",
   "execution_count": 3,
   "metadata": {},
   "outputs": [
    {
     "name": "stdout",
     "output_type": "stream",
     "text": [
      "<class 'pandas.core.frame.DataFrame'>\n",
      "RangeIndex: 13464 entries, 0 to 13463\n",
      "Data columns (total 55 columns):\n",
      " #   Column           Non-Null Count  Dtype  \n",
      "---  ------           --------------  -----  \n",
      " 0   S. No.           13464 non-null  int64  \n",
      " 1   Timestamp        13464 non-null  float64\n",
      " 2   GAD1             13464 non-null  int64  \n",
      " 3   GAD2             13464 non-null  int64  \n",
      " 4   GAD3             13464 non-null  int64  \n",
      " 5   GAD4             13464 non-null  int64  \n",
      " 6   GAD5             13464 non-null  int64  \n",
      " 7   GAD6             13464 non-null  int64  \n",
      " 8   GAD7             13464 non-null  int64  \n",
      " 9   GADE             12815 non-null  object \n",
      " 10  SWL1             13464 non-null  int64  \n",
      " 11  SWL2             13464 non-null  int64  \n",
      " 12  SWL3             13464 non-null  int64  \n",
      " 13  SWL4             13464 non-null  int64  \n",
      " 14  SWL5             13464 non-null  int64  \n",
      " 15  Game             13464 non-null  object \n",
      " 16  Platform         13464 non-null  object \n",
      " 17  Hours            13434 non-null  float64\n",
      " 18  earnings         13464 non-null  object \n",
      " 19  whyplay          13464 non-null  object \n",
      " 20  League           11612 non-null  object \n",
      " 21  highestleague    0 non-null      float64\n",
      " 22  streams          13364 non-null  float64\n",
      " 23  SPIN1            13340 non-null  float64\n",
      " 24  SPIN2            13310 non-null  float64\n",
      " 25  SPIN3            13324 non-null  float64\n",
      " 26  SPIN4            13305 non-null  float64\n",
      " 27  SPIN5            13298 non-null  float64\n",
      " 28  SPIN6            13308 non-null  float64\n",
      " 29  SPIN7            13326 non-null  float64\n",
      " 30  SPIN8            13320 non-null  float64\n",
      " 31  SPIN9            13306 non-null  float64\n",
      " 32  SPIN10           13304 non-null  float64\n",
      " 33  SPIN11           13277 non-null  float64\n",
      " 34  SPIN12           13296 non-null  float64\n",
      " 35  SPIN13           13277 non-null  float64\n",
      " 36  SPIN14           13308 non-null  float64\n",
      " 37  SPIN15           13317 non-null  float64\n",
      " 38  SPIN16           13317 non-null  float64\n",
      " 39  SPIN17           13289 non-null  float64\n",
      " 40  Narcissism       13441 non-null  float64\n",
      " 41  Gender           13464 non-null  object \n",
      " 42  Age              13464 non-null  int64  \n",
      " 43  Work             13426 non-null  object \n",
      " 44  Degree           11887 non-null  object \n",
      " 45  Birthplace       13464 non-null  object \n",
      " 46  Residence        13464 non-null  object \n",
      " 47  Reference        13449 non-null  object \n",
      " 48  Playstyle        13464 non-null  object \n",
      " 49  accept           13050 non-null  object \n",
      " 50  GAD_T            13464 non-null  int64  \n",
      " 51  SWL_T            13464 non-null  int64  \n",
      " 52  SPIN_T           12814 non-null  float64\n",
      " 53  Residence_ISO3   13354 non-null  object \n",
      " 54  Birthplace_ISO3  13343 non-null  object \n",
      "dtypes: float64(23), int64(16), object(16)\n",
      "memory usage: 5.6+ MB\n"
     ]
    }
   ],
   "source": [
    "gamingAnxiety_df.info()"
   ]
  },
  {
   "cell_type": "markdown",
   "metadata": {},
   "source": [
    "#### Demographic Information\n",
    "\n",
    "- **S. No.:** Serial Number.  \n",
    "- **Timestamp:** Time at which the participant took the questionnaire after it being launched.  \n",
    "- **Gender:** Self-identified gender of the gamer taking the questionnaire.  \n",
    "- **Age:** Self-reported age of the gamer taking the questionnaire.  \n",
    "- **Work:** Work status of the gamer.  \n",
    "- **Degree:** Highest degree attained.  \n",
    "- **Birthplace:** Birthplace.  \n",
    "- **Residence:** Place where the gamer currently resides.  \n",
    "- **Residence_ISO3:** Current residence in ISO3 format.  \n",
    "- **Birthplace_ISO3:** Birthplace in ISO3 format.\n",
    "- **Accept:** Accept terms and conditions (not necessary for any analysis).  \n",
    "\n",
    "#### Psychological Assessment\n",
    "\n",
    "- **GAD1 to GAD7:** Responses to GAD questions 1 to 7.  \n",
    "- **GADE:** Effect of gaming on work.  \n",
    "- **SWL1 to SWL5:** Responses to SWL questions 1 to 5.  \n",
    "- **SPIN1 to SPIN17:** Responses to SPIN questions 1 to 17.  \n",
    "- **Narcissism:** Interest scale in the game (1-5).  \n",
    "- **GAD_T:** GAD Total Score.  \n",
    "- **SWL_T:** SWL Total Score.  \n",
    "- **SPIN_T:** SPIN Total Score.  \n",
    "\n",
    "#### Gaming Habits\n",
    "\n",
    "- **Game:** Name of the game they play.  \n",
    "- **Platform:** Mode of game playing (PC, Console, Mobile, etc.).  \n",
    "- **Hours:** Number of hours in a week devoted to playing.  \n",
    "- **earnings:** Earnings from the game (if any).  \n",
    "- **whyplay:** Reason to play the game.  \n",
    "- **League:** Respondent's current ingame rank.  \n",
    "- **highestleague:** Highest rank attained.  \n",
    "- **streams:** Number of online streaming sessions.\n"
   ]
  },
  {
   "cell_type": "markdown",
   "metadata": {},
   "source": [
    "## Data Cleaning \n",
    "Next, we prepare our dataset for modeling and analysis. "
   ]
  },
  {
   "cell_type": "markdown",
   "metadata": {},
   "source": [
    "#### Pinpoint and Remove Irrelevant Variables\n",
    "We start by removing the following variables:\n",
    "- **League:** This column has inconsistent formatting and its value is not utilized in the study.\n",
    "- **highestleague:** This column is entirely consisting of null values and will not be used.\n",
    "- **Accept:** This column is not neccessary for analysis.\n",
    "- **earnings:** This column is relevant to the study.\n",
    "- **streams:** This column is not relevant to the study.\n",
    "- **Residence:** We will be using Residence_ISO3 instead, as it is formatted more consistently.\n",
    "- **Birthplace:** We will be using Birthplace_ISO3 instead, as it is formatted more consistently."
   ]
  },
  {
   "cell_type": "code",
   "execution_count": 4,
   "metadata": {},
   "outputs": [],
   "source": [
    "gamingAnxiety_df = gamingAnxiety_df.drop(columns=['League', 'highestleague', 'accept', 'earnings', 'streams', 'Residence', 'Birthplace'])"
   ]
  },
  {
   "cell_type": "markdown",
   "metadata": {},
   "source": [
    "#### Handling Null Values \n",
    "This section will place focus on the Psychological Assessment variables as well as the gaming habits. To start, we drop variables that are irrelevant to our study. We will then start looking for variables with null values. We do this by iterating over each column and checking how many null-valued cells each of these may have."
   ]
  },
  {
   "cell_type": "code",
   "execution_count": 5,
   "metadata": {},
   "outputs": [
    {
     "data": {
      "text/plain": [
       "GADE                649\n",
       "Hours                30\n",
       "SPIN1               124\n",
       "SPIN2               154\n",
       "SPIN3               140\n",
       "SPIN4               159\n",
       "SPIN5               166\n",
       "SPIN6               156\n",
       "SPIN7               138\n",
       "SPIN8               144\n",
       "SPIN9               158\n",
       "SPIN10              160\n",
       "SPIN11              187\n",
       "SPIN12              168\n",
       "SPIN13              187\n",
       "SPIN14              156\n",
       "SPIN15              147\n",
       "SPIN16              147\n",
       "SPIN17              175\n",
       "Narcissism           23\n",
       "Work                 38\n",
       "Degree             1577\n",
       "Reference            15\n",
       "SPIN_T              650\n",
       "Residence_ISO3      110\n",
       "Birthplace_ISO3     121\n",
       "dtype: int64"
      ]
     },
     "execution_count": 5,
     "metadata": {},
     "output_type": "execute_result"
    }
   ],
   "source": [
    "nullVariables = gamingAnxiety_df.columns[gamingAnxiety_df.isnull().any()].tolist()\n",
    "gamingAnxiety_df[nullVariables].isnull().sum()"
   ]
  },
  {
   "cell_type": "markdown",
   "metadata": {},
   "source": [
    "Most variables here have a relatively low amount off null values (Less than 5%). Although we could choose to drop this data given how few they are, we will choose to perform imputation to preserve our sample size and maintain the variability of our dataset. Furthermore, if the missing cells are scattered (i.e. many rows only have one or two cells missing), then we may end up dropping a deceptively high amount of rows rather than just a few hundred. At worst, we may end up dropping a number of rows equal to the sum of the number of null values we have. \n",
    "\n",
    "We start by doing mean imputation. Of course, we will only be doing this for cells that are supposed to have a numerical value."
   ]
  },
  {
   "cell_type": "code",
   "execution_count": 6,
   "metadata": {},
   "outputs": [],
   "source": [
    "columns_to_impute = ['Hours', 'Narcissism', 'SPIN_T',\n",
    "                     'SPIN1', 'SPIN2', 'SPIN3', 'SPIN4', 'SPIN5', \n",
    "                     'SPIN6', 'SPIN7', 'SPIN8', 'SPIN9', 'SPIN10', \n",
    "                     'SPIN11', 'SPIN12', 'SPIN13', 'SPIN14', 'SPIN15', \n",
    "                     'SPIN16', 'SPIN17']\n",
    "\n",
    "for column in columns_to_impute:\n",
    "    gamingAnxiety_df[column] = gamingAnxiety_df[column].fillna(gamingAnxiety_df[column].mean())\n"
   ]
  },
  {
   "cell_type": "markdown",
   "metadata": {},
   "source": [
    "Let's verify that we've successfully performed the imputation:"
   ]
  },
  {
   "cell_type": "code",
   "execution_count": 7,
   "metadata": {},
   "outputs": [
    {
     "data": {
      "text/plain": [
       "GADE                649\n",
       "Hours                 0\n",
       "SPIN1                 0\n",
       "SPIN2                 0\n",
       "SPIN3                 0\n",
       "SPIN4                 0\n",
       "SPIN5                 0\n",
       "SPIN6                 0\n",
       "SPIN7                 0\n",
       "SPIN8                 0\n",
       "SPIN9                 0\n",
       "SPIN10                0\n",
       "SPIN11                0\n",
       "SPIN12                0\n",
       "SPIN13                0\n",
       "SPIN14                0\n",
       "SPIN15                0\n",
       "SPIN16                0\n",
       "SPIN17                0\n",
       "Narcissism            0\n",
       "Work                 38\n",
       "Degree             1577\n",
       "Reference            15\n",
       "SPIN_T                0\n",
       "Residence_ISO3      110\n",
       "Birthplace_ISO3     121\n",
       "dtype: int64"
      ]
     },
     "execution_count": 7,
     "metadata": {},
     "output_type": "execute_result"
    }
   ],
   "source": [
    "gamingAnxiety_df[nullVariables].isnull().sum()"
   ]
  },
  {
   "cell_type": "markdown",
   "metadata": {},
   "source": [
    "We cannot use mean imputation for our categorical variables. We would also rather not drop them, for the same reason we do not want to drop our numerical variables. One method of imputation compatible with categorical values we can use is mode imputation. We mode imputation below:"
   ]
  },
  {
   "cell_type": "code",
   "execution_count": 9,
   "metadata": {},
   "outputs": [],
   "source": [
    "columns_to_impute = ['GADE', 'Work', 'Degree', 'Reference',\n",
    "                     'Residence_ISO3', 'Birthplace_ISO3']\n",
    "\n",
    "for column in columns_to_impute:\n",
    "    mode_value = gamingAnxiety_df[column].mode().iloc[0]\n",
    "    gamingAnxiety_df[column] = gamingAnxiety_df[column].fillna(mode_value)"
   ]
  },
  {
   "cell_type": "markdown",
   "metadata": {},
   "source": [
    "And again verify that we've successfully imputed the categorical variables we've targetted:"
   ]
  },
  {
   "cell_type": "code",
   "execution_count": 10,
   "metadata": {},
   "outputs": [
    {
     "data": {
      "text/plain": [
       "GADE               0\n",
       "Hours              0\n",
       "SPIN1              0\n",
       "SPIN2              0\n",
       "SPIN3              0\n",
       "SPIN4              0\n",
       "SPIN5              0\n",
       "SPIN6              0\n",
       "SPIN7              0\n",
       "SPIN8              0\n",
       "SPIN9              0\n",
       "SPIN10             0\n",
       "SPIN11             0\n",
       "SPIN12             0\n",
       "SPIN13             0\n",
       "SPIN14             0\n",
       "SPIN15             0\n",
       "SPIN16             0\n",
       "SPIN17             0\n",
       "Narcissism         0\n",
       "Work               0\n",
       "Degree             0\n",
       "Reference          0\n",
       "SPIN_T             0\n",
       "Residence_ISO3     0\n",
       "Birthplace_ISO3    0\n",
       "dtype: int64"
      ]
     },
     "execution_count": 10,
     "metadata": {},
     "output_type": "execute_result"
    }
   ],
   "source": [
    "gamingAnxiety_df[nullVariables].isnull().sum()"
   ]
  },
  {
   "cell_type": "markdown",
   "metadata": {},
   "source": [
    "## Exploratory Data Analysis\n",
    "Exploratory Data Analysis (EDA) is a crucial step in understanding the characteristics and underlying patterns in our dataset. In this study, we conducted a comprehensive EDA to explore the psychological measures of anxiety, life satisfaction, and social phobia among gamers worldwide. "
   ]
  },
  {
   "cell_type": "code",
   "execution_count": null,
   "metadata": {},
   "outputs": [],
   "source": [
    "gamingAnxiety_df.head()"
   ]
  },
  {
   "cell_type": "markdown",
   "metadata": {},
   "source": [
    "## 1st : Distribution of Key Psychological Measures\r\n",
    "What is the distribution of anxiety, life satisfaction, and social phobia scores among gamers?\r\n",
    "\r\n",
    "To answer this we take have to take a comprehensive look into the psychological state of the respondents and, to analyze the distribution of three key psychological measures: anxiety scores (GAD_T), life satisfaction scores (SWL_T), and social phobia scores (SPIN_T). We will use histograms to visualize the frequency distributions of these measures, as they provide an intuitive way to see how scores are spread across different ranges and to identify common patterns and abnormalities."
   ]
  },
  {
   "cell_type": "code",
   "execution_count": null,
   "metadata": {},
   "outputs": [],
   "source": [
    "plt.figure(figsize=(15, 5))\n",
    "\n",
    "plt.subplot(1, 3, 1)\n",
    "sns.histplot(gamingAnxiety_df['GAD_T'], kde=True, bins=30)\n",
    "plt.title('Distribution of Anxiety Scores (GAD_T)')\n",
    "plt.xlabel('Anxiety Score')\n",
    "plt.ylabel('Frequency')\n",
    "\n",
    "plt.subplot(1, 3, 2)\n",
    "sns.histplot(gamingAnxiety_df['SWL_T'], kde=True, bins=30)\n",
    "plt.title('Distribution of Life Satisfaction Scores (SWL_T)')\n",
    "plt.xlabel('Life Satisfaction Score')\n",
    "plt.ylabel('Frequency')\n",
    "\n",
    "plt.subplot(1, 3, 3)\n",
    "sns.histplot(gamingAnxiety_df['SPIN_T'], kde=True, bins=30)\n",
    "plt.title('Distribution of Social Phobia Scores (SPIN_T)')\n",
    "plt.xlabel('Social Phobia Score')\n",
    "plt.ylabel('Frequency')\n",
    "\n",
    "plt.tight_layout()\n",
    "plt.show()\n"
   ]
  },
  {
   "cell_type": "markdown",
   "metadata": {},
   "source": [
    "## Explanation : \n",
    "The data given shows that the anxiety frequency distribution has most respondents have lower anxiety score. The distribution of anxiety scores shows that most of the respondents medium to high life satisfaction scores. Lastly, the social phobia scores shows that most respondents have a lower phobia scores, with fewer respondents reporting higher levels of social phobia.\n",
    "\n",
    "Let's explain it more. For the anxiety frequency distribution or the GAD-T, it shows a right-skewed distribution that indicates most repsondents have lower anxiety scores, The distribution helps us understand that anxiety levels are generally low among the respondents, with some outliers experiencing higher levels of anxiety. We can apply this data by analyzing this distrubtion, we can identify the proportion of respondents experiencing varying degrees of anxiety, which can help in data gathering and usage. For the Life Satisfaction scores, or the SWL_T, the histogram displays the distribution with a slightly left-skewed shape suggesting most respondents have moderate to high life satisfaction, or they're currently happy with their lives right now. This shows that the overall sample of respondents have a overall well-being. Now for the Social Phobia Scores or SPIN_T, the histogram shows the distribution is a right-skewed shape indicating that most repsondents have a lower social phobia score. Showing that social anxiety is not a significant issue for most of the respondents, with only a small minority experiencing high levels of social phobia. \n",
    "\n",
    "Below is the description or values assigned to the GAD-T, SWL-T and the SPIN-T with a summary of each of their Mean, Medians, and the Standard Deviation."
   ]
  },
  {
   "cell_type": "markdown",
   "metadata": {},
   "source": [
    "## Conclusion:\n",
    "According to the data given, the distribution when it comes to the GAD-T shows that most of the respondents have lower anxiety scores, we can assume that majority of the respondents do not have any problems with anxiety. Same with the others, as the graph shows that the SWL-T although left-skewed shows that majority of the respondents are quite happy with their lives. SPIN-T graphs shows that majority of the respondents do not suffer from social phobia and only a small minority do. "
   ]
  },
  {
   "cell_type": "markdown",
   "metadata": {},
   "source": [
    "## RESEARCH QUESTION\n",
    "After going through the Exploratory Data Analysis, our final research question is as follows:\n",
    "- **Do anxiety, life satisfaction and social phobia have correlations with the game genre the person is playing?**"
   ]
  },
  {
   "cell_type": "markdown",
   "metadata": {},
   "source": [
    "## Significance\n",
    "We would like to see the correlation of data when it comes to anxiety, life satisfaction, and social phobia when it comes to the game genre. We would like to understand this for a couple of reasons.\n",
    "\n",
    "1. Mental Health Awareness :  Identifying the potential impact of certain games on mental health can help people veer away from game genres that will worsen their conditions. For example, we wouldn't want an anxious person playing a game that would make them more anxious.\n",
    "2. Game Design : A supporting reason is that game designers could design games that could lessen anxiety, raise life satisfaction and lessen social phobia through games. Sort of a therapeutic experience through gaming.\n",
    "3. Academic Research : As the research has data and statistics backing it up, this could help in to contribute to the broader field of psychology and behavioral studies, providing insights into how modern technology and entertainment affect mental health."
   ]
  }
 ],
 "metadata": {
  "kernelspec": {
   "display_name": "Python 3 (ipykernel)",
   "language": "python",
   "name": "python3"
  },
  "language_info": {
   "codemirror_mode": {
    "name": "ipython",
    "version": 3
   },
   "file_extension": ".py",
   "mimetype": "text/x-python",
   "name": "python",
   "nbconvert_exporter": "python",
   "pygments_lexer": "ipython3",
   "version": "3.11.7"
  }
 },
 "nbformat": 4,
 "nbformat_minor": 4
}
