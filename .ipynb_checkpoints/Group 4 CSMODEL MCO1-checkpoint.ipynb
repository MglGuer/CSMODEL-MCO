{
 "cells": [
  {
   "cell_type": "markdown",
   "metadata": {},
   "source": [
    "# CSMODEL S11 | Project Phase 1\n",
    "This notebook is the work of, Group 4, consisting of the following members:\n",
    "\n",
    "* CARNEY, JOHN PAUL COMPANIA\n",
    "* GUERRRERO, MIGUEL ALFONSO DAVID\n",
    "* REINANTE, CHRISTIAN VICTOR GO\n",
    "* SALVADOR, JARYLL FRANCIS PENA"
   ]
  },
  {
   "cell_type": "markdown",
   "metadata": {},
   "source": [
    "## Dataset Description\n",
    "This project makes use of the [Online Gaming Anxiety Data Set](https://www.kaggle.com/datasets/divyansh22/online-gaming-anxiety-data). It contains responses gathered from a worldwide survey of gamers. Included in this survey are psychological assessments for anxiety, social phobia, and life satisfaction. It also gathered demographic and gaming-related information. Marian Sauter and Dejan Draschkow originally compiled the data.\n"
   ]
  },
  {
   "cell_type": "markdown",
   "metadata": {},
   "source": [
    "## Importing Libraries\n",
    "Before proceeding, we will import the necessary libraries which we will use to provide a general overview of the dataset."
   ]
  },
  {
   "cell_type": "code",
   "execution_count": null,
   "metadata": {},
   "outputs": [],
   "source": [
    "import numpy as np\n",
    "import pandas as pd"
   ]
  },
  {
   "cell_type": "markdown",
   "metadata": {},
   "source": [
    "## Importing Libraries\n",
    "We then load the dataset as follows:"
   ]
  },
  {
   "cell_type": "code",
   "execution_count": null,
   "metadata": {},
   "outputs": [],
   "source": [
    "gamingAnxiety_df = pd.read_csv(\"GamingStudy_data.csv\")\n",
    "gamingAnxiety_df.head()"
   ]
  },
  {
   "cell_type": "markdown",
   "metadata": {},
   "source": [
    "## Process and Implications of Data Collection\n",
    "The data was gathered by means of a survey that was distributed to gamers globally. The survey had a range of inquiries commonly employed by psychologists to assess levels of anxiety, social phobia, and life satisfaction. Standardized psychological assessment instruments, including the General Anxiety Disorder Assessment (GAD), Satisfaction with Life Scale (SWL), and Social Phobia Inventory (SPIN) questionnaires, and inquiries regarding gaming habits and general demographics were included in the survey. \n",
    "\n",
    "Though not explicitly mentioned, it is extremely likely that this survey was conducted online, given that online surveys are commonly used when reaching a worldwide audience, especially gamers. The dataset description also includes *Reddit* as an example for the **Reference** variable, indicating the website was used as an avenue to conduct the survey as well. Assuming the data was collected as such, this presents several implications:\n",
    "\n",
    "- **Sample Composition**: Because the data was collected through an online survey, it may over-represent individuals active in online gaming communities or gamers who primarily play online multiplayer games. As a result, those who do not regularly use the internet, are inactive in online gaming communities, or those who play single-player games exclusively may be underrepresented.\n",
    "\n",
    "- **Voluntary Response Bias**: The data relies on self-reported responses, which can be subject to biases such as inaccurate self-assessment by the respondent or social desirability bias. Respondents with stronger views also may have been more likely to participate in the first place because of this."
   ]
  },
  {
   "cell_type": "markdown",
   "metadata": {},
   "source": [
    "**Each row** represents a single survey response from a gamer, and **each column** represents a variable collected in the survey. The dataset contains **13464 observations** in total, and there are **55 variables** in the dataset. We can verify this, and also check each individual variable using the info() method:"
   ]
  },
  {
   "cell_type": "code",
   "execution_count": null,
   "metadata": {},
   "outputs": [],
   "source": [
    "gamingAnxiety_df.info()"
   ]
  },
  {
   "cell_type": "markdown",
   "metadata": {},
   "source": [
    "#### Demographic Information\r\n",
    "\r\n",
    "- **S. No.:** Serial Number.  \r\n",
    "- **Timestamp:** Time at which the participant took the questionnaire after it being launched.  \r\n",
    "- **Gender:** Self-identified gender of the gamer taking the questionnaire.  \r\n",
    "- **Age:** Self-reported age of the gamer taking the questionnaire.  \r\n",
    "- **Work:** Work status of the gamer.  \r\n",
    "- **Degree:** Highest degree attained.  \r\n",
    "- **Birthplace:** Birthplace.  \r\n",
    "- **Residence:** Place where the gamer currently resides.  \r\n",
    "- **Residence_ISO3:** Current residence in ISO3 format.  \r\n",
    "- **Birthplace_ISO3:** Birthplace in I\n",
    "- **Accept:**OAccept terms and conditions (not necessary for any analysis).3 format.  \r\n",
    "\r\n",
    "#### Psychological Assessment\r\n",
    "\r\n",
    "- **GAD1 to GAD7:** Responses to GAD questions 1 to 7.  \r\n",
    "- **GADE:** Effect of gaming on work.  \r\n",
    "- **SWL1 to SWL5:** Responses to SWL questions 1 to 5.  \r\n",
    "- **SPIN1 to SPIN17:** Responses to SPIN questions 1 to 17.  \r\n",
    "- **Narcissism:** Interest scale in the game (1-5).  \r\n",
    "- **GAD_T:** GAD Total Score.  \r\n",
    "- **SWL_T:** SWL Total Score.  \r\n",
    "- **SPIN_T:** SPIN Total Score.  \r\n",
    "\r\n",
    "#### Gaming Habits\r\n",
    "\r\n",
    "- **Game:** Name of the game they play.  \r\n",
    "- **Platform:** Mode of game playing (PC, Console, Mobile, etc.).  \r\n",
    "- **Hours:** Number of hours in a week devoted to playing.  \r\n",
    "- **earnings:** Earnings from the game (if any).  \r\n",
    "- **whyplay:** Reason to play the game.  \r\n",
    "- **League:** League.  \r\n",
    "- **highestleague:** Highest league.  \r\n",
    "- **streams:** - Number of online streaming sessi\r\n"
   ]
  },
  {
   "cell_type": "markdown",
   "metadata": {},
   "source": [
    "## Data Cleaning \n",
    "This section will place focus on the Psychological Assessment variables as well as the gaming habits. To start, we will start by looking for variables with null values. We do this by iterating over each column and checking how many null-valued cells each of these may have."
   ]
  },
  {
   "cell_type": "code",
   "execution_count": null,
   "metadata": {},
   "outputs": [],
   "source": [
    "nullVariables = gamingAnxiety_df.columns[gamingAnxiety_df.isnull().any()].tolist()\n",
    "gamingAnxiety_df[nullVariables].isnull().sum()"
   ]
  },
  {
   "cell_type": "markdown",
   "metadata": {},
   "source": [
    "Most variables here have a relatively low amount off null values (Less than 5%). Although we could choose to drop this data given how few they are, we will choose to perform imputation to preserve our sample size and maintain the variability of our dataset. Furthermore, if the missing cells are scattered (i.e. many rows only have one or two cells missing), then we may end up dropping a deceptively high amount of rows rather than just a few hundred. At worst, we may end up dropping a number of rows equal to the sum of the number of null values we have. \n",
    "\n",
    "We start by doing mean imputation. Of course, we will only be doing this for cells that are supposed to have a numerical value."
   ]
  },
  {
   "cell_type": "code",
   "execution_count": null,
   "metadata": {},
   "outputs": [],
   "source": [
    "columns_to_impute = ['Hours', 'streams', 'Narcissism', 'SPIN_T',\n",
    "                     'SPIN1', 'SPIN2', 'SPIN3', 'SPIN4', 'SPIN5', \n",
    "                     'SPIN6', 'SPIN7', 'SPIN8', 'SPIN9', 'SPIN10', \n",
    "                     'SPIN11', 'SPIN12', 'SPIN13', 'SPIN14', 'SPIN15', \n",
    "                     'SPIN16', 'SPIN17']\n",
    "\n",
    "for column in columns_to_impute:\n",
    "    gamingAnxiety_df[column] = gamingAnxiety_df[column].fillna(gamingAnxiety_df[column].mean())\n"
   ]
  },
  {
   "cell_type": "markdown",
   "metadata": {},
   "source": [
    "Let's verify that we've successfully performed the imputation:"
   ]
  },
  {
   "cell_type": "code",
   "execution_count": null,
   "metadata": {},
   "outputs": [],
   "source": [
    "gamingAnxiety_df[nullVariables].isnull().sum()"
   ]
  },
  {
   "cell_type": "markdown",
   "metadata": {},
   "source": [
    "We cannot use mean imputation for our categorical variables. We would also rather not drop them, for the same reason we do not want to drop our numerical variables. One method of imputation compatible with categorical values we can use is mode imputation. We mode imputation below:"
   ]
  },
  {
   "cell_type": "code",
   "execution_count": null,
   "metadata": {},
   "outputs": [],
   "source": [
    "columns_to_impute = ['GADE', 'Work', 'Degree', 'Reference',\n",
    "                     'Residence_ISO3', 'Birthplace_ISO3']\n",
    "\n",
    "for column in columns_to_impute:\n",
    "    mode_value = gamingAnxiety_df[column].mode().iloc[0]\n",
    "    gamingAnxiety_df[column] = gamingAnxiety_df[column].fillna(mode_value)"
   ]
  },
  {
   "cell_type": "markdown",
   "metadata": {},
   "source": [
    "And again verify that we've successfully imputed the categorical variables we've targetted:"
   ]
  },
  {
   "cell_type": "code",
   "execution_count": null,
   "metadata": {},
   "outputs": [],
   "source": [
    "gamingAnxiety_df[nullVariables].isnull().sum()"
   ]
  }
 ],
 "metadata": {
  "kernelspec": {
   "display_name": "Python 3 (ipykernel)",
   "language": "python",
   "name": "python3"
  },
  "language_info": {
   "codemirror_mode": {
    "name": "ipython",
    "version": 3
   },
   "file_extension": ".py",
   "mimetype": "text/x-python",
   "name": "python",
   "nbconvert_exporter": "python",
   "pygments_lexer": "ipython3",
   "version": "3.11.7"
  }
 },
 "nbformat": 4,
 "nbformat_minor": 4
}
