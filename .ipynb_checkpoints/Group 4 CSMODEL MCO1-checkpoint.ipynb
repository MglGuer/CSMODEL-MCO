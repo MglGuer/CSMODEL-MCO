{
 "cells": [
  {
   "cell_type": "markdown",
   "metadata": {},
   "source": [
    "# CSMODEL S11 | Project Phase 1\n",
    "This notebook is the work of Group 4, consisting of the following members:\n",
    "\n",
    "* CARNEY, JOHN PAUL COMPANIA\n",
    "* GUERRRERO, MIGUEL ALFONSO DAVID\n",
    "* REINANTE, CHRISTIAN VICTOR GO\n",
    "* SALVADOR, JARYLL FRANCIS PENA"
   ]
  },
  {
   "cell_type": "markdown",
   "metadata": {},
   "source": [
    "## Dataset Description\n",
    "This project makes use of the [Online Gaming Anxiety Data Set](https://www.kaggle.com/datasets/divyansh22/online-gaming-anxiety-data). It contains responses gathered from a worldwide survey of gamers. Included in this survey are psychological assessments for anxiety, social phobia, and life satisfaction. It also gathered demographic and gaming-related information. Marian Sauter and Dejan Draschkow originally compiled the data.\n"
   ]
  },
  {
   "cell_type": "markdown",
   "metadata": {},
   "source": [
    "## Importing Libraries\n",
    "Before proceeding, we will import the necessary libraries which we will use to provide a general overview of the dataset."
   ]
  },
  {
   "cell_type": "code",
   "execution_count": null,
   "metadata": {},
   "outputs": [],
   "source": [
    "import numpy as np\n",
    "import pandas as pd\n",
    "import matplotlib.pyplot as plt\n",
    "import seaborn as sns"
   ]
  },
  {
   "cell_type": "markdown",
   "metadata": {},
   "source": [
    "## Importing Libraries\n",
    "We then load the dataset as follows:"
   ]
  },
  {
   "cell_type": "code",
   "execution_count": null,
   "metadata": {},
   "outputs": [],
   "source": [
    "gamingAnxiety_df = pd.read_csv(\"GamingStudy_data.csv\")\n",
    "gamingAnxiety_df.head()"
   ]
  },
  {
   "cell_type": "markdown",
   "metadata": {},
   "source": [
    "## Process and Implications of Data Collection\n",
    "The data was gathered by means of a survey that was distributed to gamers globally. The survey had a range of inquiries commonly employed by psychologists to assess levels of anxiety, social phobia, and life satisfaction. Standardized psychological assessment instruments, including the General Anxiety Disorder Assessment (GAD), Satisfaction with Life Scale (SWL), and Social Phobia Inventory (SPIN) questionnaires, and inquiries regarding gaming habits and general demographics were included in the survey. \n",
    "\n",
    "Though not explicitly mentioned, it is extremely likely that this survey was conducted online, given that online surveys are commonly used when reaching a worldwide audience, especially gamers. The dataset description also includes *Reddit* as an example for the **Reference** variable, indicating the website was used as an avenue to conduct the survey as well. Assuming the data was collected as such, this presents several implications:\n",
    "\n",
    "- **Sample Composition**: Because the data was collected through an online survey, it may over-represent individuals active in online gaming communities or gamers who primarily play online multiplayer games. As a result, those who do not regularly use the internet, are inactive in online gaming communities, or those who play single-player games exclusively may be underrepresented.\n",
    "\n",
    "- **Voluntary Response Bias**: The data relies on self-reported responses, which can be subject to biases such as inaccurate self-assessment by the respondent or social desirability bias. Respondents with stronger views also may have been more likely to participate in the first place because of this."
   ]
  },
  {
   "cell_type": "markdown",
   "metadata": {},
   "source": [
    "**Each row** represents a single survey response from a gamer, and **each column** represents a variable collected in the survey. The dataset contains **13464 observations** in total, and there are **55 variables** in the dataset. We can verify this, and also check each individual variable using the info() method:"
   ]
  },
  {
   "cell_type": "code",
   "execution_count": null,
   "metadata": {},
   "outputs": [],
   "source": [
    "gamingAnxiety_df.info()"
   ]
  },
  {
   "cell_type": "markdown",
   "metadata": {},
   "source": [
    "#### Demographic Information\n",
    "\n",
    "- **S. No.:** Serial Number.  \n",
    "- **Timestamp:** Time at which the participant took the questionnaire after it being launched.  \n",
    "- **Gender:** Self-identified gender of the gamer taking the questionnaire.  \n",
    "- **Age:** Self-reported age of the gamer taking the questionnaire.  \n",
    "- **Work:** Work status of the gamer.  \n",
    "- **Degree:** Highest degree attained.  \n",
    "- **Birthplace:** Birthplace.  \n",
    "- **Residence:** Place where the gamer currently resides.  \n",
    "- **Residence_ISO3:** Current residence in ISO3 format.  \n",
    "- **Birthplace_ISO3:** Birthplace in ISO3 format.\n",
    "- **Accept:** Accept terms and conditions (not necessary for any analysis).  \n",
    "\n",
    "#### Psychological Assessment\n",
    "\n",
    "- **GAD1 to GAD7:** Responses to GAD questions 1 to 7.  \n",
    "- **GADE:** Effect of gaming on work.  \n",
    "- **SWL1 to SWL5:** Responses to SWL questions 1 to 5.  \n",
    "- **SPIN1 to SPIN17:** Responses to SPIN questions 1 to 17.  \n",
    "- **Narcissism:** Interest scale in the game (1-5).  \n",
    "- **GAD_T:** GAD Total Score.  \n",
    "- **SWL_T:** SWL Total Score.  \n",
    "- **SPIN_T:** SPIN Total Score.  \n",
    "\n",
    "#### Gaming Habits\n",
    "\n",
    "- **Game:** Name of the game they play.  \n",
    "- **Platform:** Mode of game playing (PC, Console, Mobile, etc.).  \n",
    "- **Hours:** Number of hours in a week devoted to playing.  \n",
    "- **earnings:** Earnings from the game (if any).  \n",
    "- **whyplay:** Reason to play the game.  \n",
    "- **League:** Respondent's current ingame rank.  \n",
    "- **highestleague:** Highest rank attained.  \n",
    "- **streams:** Number of online streaming sessions.\n"
   ]
  },
  {
   "cell_type": "markdown",
   "metadata": {},
   "source": [
    "## Data Cleaning \n",
    "Next, we prepare our dataset for modeling and analysis. "
   ]
  },
  {
   "cell_type": "markdown",
   "metadata": {},
   "source": [
    "#### Pinpoint and Remove Irrelevant Variables\n",
    "We start by removing the following variables:\n",
    "- **League:** This column has inconsistent formatting and its value is not utilized in the study.\n",
    "- **highestleague:** This column is entirely consisting of null values and will not be used.\n",
    "- **Accept:** This column is not neccessary for analysis.\n",
    "- **earnings:** This column is relevant to the study.\n",
    "- **streams:** This column is not relevant to the study.\n",
    "- **Residence:** We will be using Residence_ISO3 instead, as it is formatted more consistently.\n",
    "- **Birthplace:** We will be using Birthplace_ISO3 instead, as it is formatted more consistently."
   ]
  },
  {
   "cell_type": "code",
   "execution_count": null,
   "metadata": {},
   "outputs": [],
   "source": [
    "gamingAnxiety_df = gamingAnxiety_df.drop(columns=['League', 'highestleague', 'accept', 'earnings', 'streams', 'Residence', 'Birthplace'])"
   ]
  },
  {
   "cell_type": "markdown",
   "metadata": {},
   "source": [
    "#### Handling Null Values \n",
    "This section will place focus on the Psychological Assessment variables as well as the gaming habits. To start, we drop variables that are irrelevant to our study. We will then start looking for variables with null values. We do this by iterating over each column and checking how many null-valued cells each of these may have."
   ]
  },
  {
   "cell_type": "code",
   "execution_count": null,
   "metadata": {},
   "outputs": [],
   "source": [
    "nullVariables = gamingAnxiety_df.columns[gamingAnxiety_df.isnull().any()].tolist()\n",
    "gamingAnxiety_df[nullVariables].isnull().sum()"
   ]
  },
  {
   "cell_type": "markdown",
   "metadata": {},
   "source": [
    "Most variables here have a relatively low amount off null values (Less than 5%). Although we could choose to drop this data given how few they are, we will choose to perform imputation to preserve our sample size and maintain the variability of our dataset. Furthermore, if the missing cells are scattered (i.e. many rows only have one or two cells missing), then we may end up dropping a deceptively high amount of rows rather than just a few hundred. At worst, we may end up dropping a number of rows equal to the sum of the number of null values we have. \n",
    "\n",
    "We start by doing mean imputation. Of course, we will only be doing this for cells that are supposed to have a numerical value."
   ]
  },
  {
   "cell_type": "code",
   "execution_count": null,
   "metadata": {},
   "outputs": [],
   "source": [
    "columns_to_impute = ['Hours', 'Narcissism', 'SPIN_T',\n",
    "                     'SPIN1', 'SPIN2', 'SPIN3', 'SPIN4', 'SPIN5', \n",
    "                     'SPIN6', 'SPIN7', 'SPIN8', 'SPIN9', 'SPIN10', \n",
    "                     'SPIN11', 'SPIN12', 'SPIN13', 'SPIN14', 'SPIN15', \n",
    "                     'SPIN16', 'SPIN17']\n",
    "\n",
    "for column in columns_to_impute:\n",
    "    gamingAnxiety_df[column] = gamingAnxiety_df[column].fillna(gamingAnxiety_df[column].mean())\n"
   ]
  },
  {
   "cell_type": "markdown",
   "metadata": {},
   "source": [
    "Let's verify that we've successfully performed the imputation:"
   ]
  },
  {
   "cell_type": "code",
   "execution_count": null,
   "metadata": {},
   "outputs": [],
   "source": [
    "gamingAnxiety_df[nullVariables].isnull().sum()"
   ]
  },
  {
   "cell_type": "markdown",
   "metadata": {},
   "source": [
    "We cannot use mean imputation for our categorical variables. We would also rather not drop them, for the same reason we do not want to drop our numerical variables. One method of imputation compatible with categorical values we can use is mode imputation. We mode imputation below:"
   ]
  },
  {
   "cell_type": "code",
   "execution_count": null,
   "metadata": {},
   "outputs": [],
   "source": [
    "columns_to_impute = ['GADE', 'Work', 'Degree', 'Reference',\n",
    "                     'Residence_ISO3', 'Birthplace_ISO3']\n",
    "\n",
    "for column in columns_to_impute:\n",
    "    mode_value = gamingAnxiety_df[column].mode().iloc[0]\n",
    "    gamingAnxiety_df[column] = gamingAnxiety_df[column].fillna(mode_value)"
   ]
  },
  {
   "cell_type": "markdown",
   "metadata": {},
   "source": [
    "And again verify that we've successfully imputed the categorical variables we've targetted:"
   ]
  },
  {
   "cell_type": "code",
   "execution_count": null,
   "metadata": {},
   "outputs": [],
   "source": [
    "gamingAnxiety_df[nullVariables].isnull().sum()"
   ]
  },
  {
   "cell_type": "markdown",
   "metadata": {},
   "source": [
    "## Exploratory Data Analysis\n",
    "Exploratory Data Analysis (EDA) is a crucial step in understanding the characteristics and underlying patterns in our dataset. In this study, we conducted a comprehensive EDA to explore the psychological measures of anxiety, life satisfaction, and social phobia among gamers worldwide. "
   ]
  },
  {
   "cell_type": "code",
   "execution_count": null,
   "metadata": {},
   "outputs": [],
   "source": [
    "gamingAnxiety_df.head()"
   ]
  },
  {
   "cell_type": "markdown",
   "metadata": {},
   "source": [
    "## 1st : Distribution of Key Psychological Measures\r\n",
    "What is the distribution of anxiety, life satisfaction, and social phobia scores among gamers?\r\n",
    "\r\n",
    "To answer this we take have to take a comprehensive look into the psychological state of the respondents and, to analyze the distribution of three key psychological measures: anxiety scores (GAD_T), life satisfaction scores (SWL_T), and social phobia scores (SPIN_T). We will use histograms to visualize the frequency distributions of these measures, as they provide an intuitive way to see how scores are spread across different ranges and to identify common patterns and abnormalities."
   ]
  },
  {
   "cell_type": "code",
   "execution_count": null,
   "metadata": {},
   "outputs": [],
   "source": [
    "plt.figure(figsize=(15, 5))\n",
    "\n",
    "plt.subplot(1, 3, 1)\n",
    "sns.histplot(gamingAnxiety_df['GAD_T'], kde=True, bins=30)\n",
    "plt.title('Distribution of Anxiety Scores (GAD_T)')\n",
    "plt.xlabel('Anxiety Score')\n",
    "plt.ylabel('No. of Respondents')\n",
    "\n",
    "plt.subplot(1, 3, 2)\n",
    "sns.histplot(gamingAnxiety_df['SWL_T'], kde=True, bins=30)\n",
    "plt.title('Distribution of Life Satisfaction Scores (SWL_T)')\n",
    "plt.xlabel('Life Satisfaction Score')\n",
    "plt.ylabel('No. of Respondents')\n",
    "\n",
    "plt.subplot(1, 3, 3)\n",
    "sns.histplot(gamingAnxiety_df['SPIN_T'], kde=True, bins=30)\n",
    "plt.title('Distribution of Social Phobia Scores (SPIN_T)')\n",
    "plt.xlabel('Social Phobia Score')\n",
    "plt.ylabel('No. of Respondents')\n",
    "\n",
    "plt.tight_layout()\n",
    "plt.show()\n"
   ]
  },
  {
   "cell_type": "markdown",
   "metadata": {},
   "source": [
    "## Explanation : \n",
    "The data given shows that the anxiety frequency distribution has most respondents have lower anxiety score. The distribution of anxiety scores shows that most of the respondents medium to high life satisfaction scores. Lastly, the social phobia scores shows that most respondents have a lower phobia scores, with fewer respondents reporting higher levels of social phobia.\n",
    "\n",
    "Let's explain it more. For the anxiety frequency distribution or the GAD-T, it shows a right-skewed distribution that indicates most repsondents have lower anxiety scores, The distribution helps us understand that anxiety levels are generally low among the respondents, with some outliers experiencing higher levels of anxiety. We can apply this data by analyzing this distrubtion, we can identify the proportion of respondents experiencing varying degrees of anxiety, which can help in data gathering and usage. For the Life Satisfaction scores, or the SWL_T, the histogram displays the distribution with a slightly left-skewed shape suggesting most respondents have moderate to high life satisfaction, or they're currently happy with their lives right now. This shows that the overall sample of respondents have a overall well-being. Now for the Social Phobia Scores or SPIN_T, the histogram shows the distribution is a right-skewed shape indicating that most repsondents have a lower social phobia score. Showing that social anxiety is not a significant issue for most of the respondents, with only a small minority experiencing high levels of social phobia. \n",
    "\n",
    "Below is the description or values assigned to the GAD-T, SWL-T and the SPIN-T with a summary of each of their Mean, Medians, and the Standard Deviation."
   ]
  },
  {
   "cell_type": "markdown",
   "metadata": {},
   "source": [
    "## Conclusion:\n",
    "According to the data given, the distribution when it comes to the GAD-T shows that most of the respondents have lower anxiety scores, we can assume that majority of the respondents do not have any problems with anxiety. Same with the others, as the graph shows that the SWL-T although left-skewed shows that majority of the respondents are quite happy with their lives. SPIN-T graphs shows that majority of the respondents do not suffer from social phobia and only a small minority do. "
   ]
  },
  {
   "cell_type": "markdown",
   "metadata": {},
   "source": [
    "##  Gaming Hours\n",
    "Here, we seek to answer the question \"Do gaming hours per week correlate with anxiety, life satisfaction, and social phobia scores?\"\n",
    " similarly plot the data as follows:"
   ]
  },
  {
   "cell_type": "code",
   "execution_count": null,
   "metadata": {},
   "outputs": [],
   "source": [
    "gamingAnxiety_df = gamingAnxiety_df[gamingAnxiety_df['Hours'] <= 100]\n",
    "plt.figure(figsize=(15, 5))\n",
    "\n",
    "plt.subplot(1, 3, 1)\n",
    "sns.scatterplot(x='Hours', y='GAD_T', data=gamingAnxiety_df)\n",
    "plt.title('Gaming Hours per Week vs Anxiety Scores')\n",
    "plt.xlabel('Gaming Hours per Week')\n",
    "plt.ylabel('Anxiety Score')\n",
    "\n",
    "plt.subplot(1, 3, 2)\n",
    "sns.scatterplot(x='Hours', y='SWL_T', data=gamingAnxiety_df)\n",
    "plt.title('Gaming Hours per Week vs Life Satisfaction Scores')\n",
    "plt.xlabel('Gaming Hours per Week')\n",
    "plt.ylabel('Life Satisfaction Score')\n",
    "\n",
    "plt.subplot(1, 3, 3)\n",
    "sns.scatterplot(x='Hours', y='SPIN_T', data=gamingAnxiety_df)\n",
    "plt.title('Gaming Hours per Week vs Social Phobia Scores')\n",
    "plt.xlabel('Gaming Hours per Week')\n",
    "plt.ylabel('Social Phobia Score')\n",
    "\n",
    "plt.tight_layout()\n",
    "plt.show()"
   ]
  },
  {
   "cell_type": "markdown",
   "metadata": {},
   "source": [
    "## Explanation\n",
    "Scatterplots are best used when trying to visualize a relationship between two continous variables. Here we attempt to visualize any potential relationship between GAD_T, SPIN_T, and SWL_T.\n",
    "\n",
    "From visuals alone, there is no obvious trend between gaming hours per week and these variables. One thing of note, however, is that the dots tend to be concentrated towards the left side of the graph. This skewness does indicate that the dataset represents more observations with lower gaming hours per week. Besides this, there is little more that can be gathered from looking at the graph alone.\n",
    "\n",
    "## Conclusion:\n",
    "Attempting to visualize potential relationships between gaming hours and anxiety, social phobia, and life satisfaction shows no clear trend. However, the concentration of dots on the left suggests lower gaming hours overall."
   ]
  },
  {
   "cell_type": "markdown",
   "metadata": {},
   "source": [
    "## Demographic breakdown (Age, Gender, Nationality) of Gamers\n",
    "What is the demographic breakdown (age, gender, nationality) of gamers in the survey?\n",
    "For this we can barplot the entire dataset to see the density of the respondents and where they live."
   ]
  },
  {
   "cell_type": "code",
   "execution_count": null,
   "metadata": {},
   "outputs": [],
   "source": [
    "plt.figure(figsize=(15, 5))\n",
    "plt.subplot(1, 3, 1)\n",
    "sns.histplot(gamingAnxiety_df['Age'], kde=True, bins=30)\n",
    "plt.title('Distribution of Age')\n",
    "plt.xlabel('Age')\n",
    "plt.ylabel('Frequency')\n",
    "\n",
    "plt.subplot(1, 3, 2)\n",
    "sns.countplot(x='Gender', data=gamingAnxiety_df)\n",
    "plt.title('Gender Distribution')\n",
    "plt.xlabel('Gender')\n",
    "plt.ylabel('Count')\n",
    "\n",
    "plt.subplot(1, 3, 3)\n",
    "top_nationalities = gamingAnxiety_df['Birthplace'].value_counts().head(10)\n",
    "sns.barplot(x=top_nationalities.index, y=top_nationalities.values)\n",
    "plt.title('Top 10 Nationalities')\n",
    "plt.xlabel('Nationality')\n",
    "plt.ylabel('Count')\n",
    "plt.xticks(rotation=45)\n",
    "\n",
    "plt.tight_layout()\n",
    "plt.show()"
   ]
  },
  {
   "cell_type": "markdown",
   "metadata": {},
   "source": [
    "## Explanation\n",
    "With the first graph being the age distribution we can see that the majority of the respondents are in their mid-20s, with fewer respondents on the outliers, being younger and older age extremes. The second graph shows the counts of male, female and other respondents. It is apparent that the respondents of this dataset is majorly males, with smaller proportions of female and other genders. The last graph being the top 10 nationalities of respondents. These are namely USA, Germany, UK, Canada, Netherlands, France, Sweden, Poland, Brazil and Portugal.\n",
    "\n",
    "Let's dive in deeper in the graphs. The first graph shows that the peak respondent age is mid-20s, this shows that the age group is highly represented in this sampling, then we have more extremes reaching up to 60, showing that gaming is not a phase but a passion for some people. The second graph shows that majority of the respondents are male, we can use this for mental health data research and in indentifying target demographics. The last graph is again, the Top 10 Nationalities, showing USA as first, then Germany. The data also shows that 80% of the Top 10 countries are in Europe.\n"
   ]
  },
  {
   "cell_type": "markdown",
   "metadata": {},
   "source": [
    "## Conclusion\n",
    "The vast majoriy of gamers from the dataset are below the age of 20, Male, and from the USA."
   ]
  },
  {
   "cell_type": "markdown",
   "metadata": {},
   "source": [
    "## Relationship Between Preferred Gaming Device, Game Genre, and Psychological Measures"
   ]
  },
  {
   "cell_type": "code",
   "execution_count": null,
   "metadata": {},
   "outputs": [],
   "source": [
    "# Preferred gaming device and psychological measures\n",
    "plt.figure(figsize=(15, 10))\n",
    "\n",
    "# Device vs Anxiety\n",
    "plt.subplot(3, 1, 1)\n",
    "sns.boxplot(x='Platform', y='GAD_T', data=gamingAnxiety_df)\n",
    "plt.title('Preferred Gaming Device vs Anxiety Scores')\n",
    "plt.xlabel('Gaming Device')\n",
    "plt.ylabel('Anxiety Score')\n",
    "\n",
    "# Device vs Life Satisfaction\n",
    "plt.subplot(3, 1, 2)\n",
    "sns.boxplot(x='Platform', y='SWL_T', data=gamingAnxiety_df)\n",
    "plt.title('Preferred Gaming Device vs Life Satisfaction Scores')\n",
    "plt.xlabel('Gaming Device')\n",
    "plt.ylabel('Life Satisfaction Score')\n",
    "\n",
    "# Device vs Social Phobia\n",
    "plt.subplot(3, 1, 3)\n",
    "sns.boxplot(x='Platform', y='SPIN_T', data=gamingAnxiety_df)\n",
    "plt.title('Preferred Gaming Device vs Social Phobia Scores')\n",
    "plt.xlabel('Gaming Device')\n",
    "plt.ylabel('Social Phobia Score')\n",
    "\n",
    "plt.tight_layout()\n",
    "plt.show()\n",
    "\n",
    "# Game genre and psychological measures\n",
    "plt.figure(figsize=(15, 10))\n",
    "\n",
    "# Genre vs Anxiety\n",
    "plt.subplot(3, 1, 1)\n",
    "sns.boxplot(x='Game', y='GAD_T', data=gamingAnxiety_df)\n",
    "plt.title('Game Genre vs Anxiety Scores')\n",
    "plt.xlabel('Game Genre')\n",
    "plt.ylabel('Anxiety Score')\n",
    "plt.xticks(rotation=45)\n",
    "\n",
    "# Genre vs Life Satisfaction\n",
    "plt.subplot(3, 1, 2)\n",
    "sns.boxplot(x='Game', y='SWL_T', data=gamingAnxiety_df)\n",
    "plt.title('Game Genre vs Life Satisfaction Scores')\n",
    "plt.xlabel('Game Genre')\n",
    "plt.ylabel('Life Satisfaction Score')\n",
    "plt.xticks(rotation=45)\n",
    "\n",
    "# Genre vs Social Phobia\n",
    "plt.subplot(3, 1, 3)\n",
    "sns.boxplot(x='Game', y='SPIN_T', data=gamingAnxiety_df)\n",
    "plt.title('Game Genre vs Social Phobia Scores')\n",
    "plt.xlabel('Game Genre')\n",
    "plt.ylabel('Social Phobia Score')\n",
    "plt.xticks(rotation=45)\n",
    "\n",
    "plt.tight_layout()\n",
    "plt.show()\n"
   ]
  },
  {
   "cell_type": "markdown",
   "metadata": {},
   "source": [
    "## Explanation:\n",
    "A boxplot is extremely useful here as it displays a range of data and highlights central tendency, and how differeng genres and platforms may affect these.\n",
    "\n",
    "The graph shows that in mobile users tend to have GAD_T, SWL_T and SPIN_T scores compared to PC and console users. Interestingly, PC players noticeably have more outliers compared to the rest, leaning towards high GAD_T and SPIN_T.\n",
    "\n",
    "Though there are differences in the median scores, the most striking observations about the game genre graphs are the high amount of outliers presenting high GAD_T and high SPIN_T scores for games like League of Legends and Counter Strike, games known to be highly competitive. This may present an opportunity for feature engineering, classifying the games with regards to how competitive they are.\n",
    "\n",
    "## Conclusion:\n",
    "\n",
    "Anxiety, Social Phobia and Satisfaction with life tends to be higher for mobile users. High-score outliers are also noticeable with regards to social phobia and anxiety for competitive games."
   ]
  },
  {
   "cell_type": "markdown",
   "metadata": {},
   "source": [
    "## RESEARCH QUESTION\n",
    "After going through the Exploratory Data Analysis, our final research question is as follows:\n",
    "- **Do anxiety, life satisfaction and social phobia have correlations with the game genre the person is playing?**"
   ]
  },
  {
   "cell_type": "markdown",
   "metadata": {},
   "source": [
    "## Significance\n",
    "We would like to see the correlation of data when it comes to anxiety, life satisfaction, and social phobia when it comes to the game genre. We would like to understand this for a couple of reasons.\n",
    "\n",
    "1. Mental Health Awareness :  Identifying the potential impact of certain games on mental health can help people veer away from game genres that will worsen their conditions. For example, we wouldn't want an anxious person playing a game that would make them more anxious.\n",
    "2. Game Design : A supporting reason is that game designers could design games that could lessen anxiety, raise life satisfaction and lessen social phobia through games. Sort of a therapeutic experience through gaming.\n",
    "3. Academic Research : As the research has data and statistics backing it up, this could help in to contribute to the broader field of psychology and behavioral studies, providing insights into how modern technology and entertainment affect mental health."
   ]
  }
 ],
 "metadata": {
  "kernelspec": {
   "display_name": "Python 3 (ipykernel)",
   "language": "python",
   "name": "python3"
  },
  "language_info": {
   "codemirror_mode": {
    "name": "ipython",
    "version": 3
   },
   "file_extension": ".py",
   "mimetype": "text/x-python",
   "name": "python",
   "nbconvert_exporter": "python",
   "pygments_lexer": "ipython3",
   "version": "3.11.7"
  }
 },
 "nbformat": 4,
 "nbformat_minor": 4
}
