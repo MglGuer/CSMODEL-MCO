{
 "cells": [
  {
   "cell_type": "markdown",
   "metadata": {},
   "source": [
    "# CSMODEL S11 | Project Phase 1\n",
    "This notebook is the work of Group 4, consisting of the following members:\n",
    "\n",
    "* CARNEY, JOHN PAUL COMPANIA\n",
    "* GUERRRERO, MIGUEL ALFONSO DAVID\n",
    "* REINANTE, CHRISTIAN VICTOR GO\n",
    "* SALVADOR, JARYLL FRANCIS PENA"
   ]
  },
  {
   "cell_type": "markdown",
   "metadata": {},
   "source": [
    "## Dataset Description\n",
    "This project makes use of the [Online Gaming Anxiety Data Set](https://www.kaggle.com/datasets/divyansh22/online-gaming-anxiety-data). It contains responses gathered from a worldwide survey of gamers. Included in this survey are psychological assessments for anxiety, social phobia, and life satisfaction. It also gathered demographic and gaming-related information. Marian Sauter and Dejan Draschkow originally compiled the data.\n"
   ]
  },
  {
   "cell_type": "markdown",
   "metadata": {},
   "source": [
    "## Importing Libraries\n",
    "Before proceeding, we will import the necessary libraries which we will use to provide a general overview of the dataset."
   ]
  },
  {
   "cell_type": "code",
   "execution_count": 3,
   "metadata": {},
   "outputs": [],
   "source": [
    "import numpy as np\n",
    "import pandas as pd\n",
    "import matplotlib.pyplot as plt\n",
    "import seaborn as sns"
   ]
  },
  {
   "cell_type": "markdown",
   "metadata": {},
   "source": [
    "## Importing Libraries\n",
    "We then load the dataset as follows:"
   ]
  },
  {
   "cell_type": "code",
   "execution_count": null,
   "metadata": {},
   "outputs": [],
   "source": [
    "gamingAnxiety_df = pd.read_csv(\"GamingStudy_data.csv\")\n",
    "gamingAnxiety_df.head()"
   ]
  },
  {
   "cell_type": "markdown",
   "metadata": {},
   "source": [
    "## Process and Implications of Data Collection\n",
    "The data was gathered by means of a survey that was distributed to gamers globally. The survey had a range of inquiries commonly employed by psychologists to assess levels of anxiety, social phobia, and life satisfaction. Standardized psychological assessment instruments, including the General Anxiety Disorder Assessment (GAD), Satisfaction with Life Scale (SWL), and Social Phobia Inventory (SPIN) questionnaires, and inquiries regarding gaming habits and general demographics were included in the survey. \n",
    "\n",
    "Though not explicitly mentioned, it is extremely likely that this survey was conducted online, given that online surveys are commonly used when reaching a worldwide audience, especially gamers. The dataset description also includes *Reddit* as an example for the **Reference** variable, indicating the website was used as an avenue to conduct the survey as well. Assuming the data was collected as such, this presents several implications:\n",
    "\n",
    "- **Sample Composition**: Because the data was collected through an online survey, it may over-represent individuals active in online gaming communities or gamers who primarily play online multiplayer games. As a result, those who do not regularly use the internet, are inactive in online gaming communities, or those who play single-player games exclusively may be underrepresented.\n",
    "\n",
    "- **Voluntary Response Bias**: The data relies on self-reported responses, which can be subject to biases such as inaccurate self-assessment by the respondent or social desirability bias. Respondents with stronger views also may have been more likely to participate in the first place because of this."
   ]
  },
  {
   "cell_type": "markdown",
   "metadata": {},
   "source": [
    "**Each row** represents a single survey response from a gamer, and **each column** represents a variable collected in the survey. The dataset contains **13464 observations** in total, and there are **55 variables** in the dataset. We can verify this, and also check each individual variable using the info() method:"
   ]
  },
  {
   "cell_type": "code",
   "execution_count": null,
   "metadata": {},
   "outputs": [],
   "source": [
    "gamingAnxiety_df.info()"
   ]
  },
  {
   "cell_type": "markdown",
   "metadata": {},
   "source": [
    "#### Demographic Information\n",
    "\n",
    "- **S. No.:** Serial Number.  \n",
    "- **Timestamp:** Time at which the participant took the questionnaire after it being launched.  \n",
    "- **Gender:** Self-identified gender of the gamer taking the questionnaire.  \n",
    "- **Age:** Self-reported age of the gamer taking the questionnaire.  \n",
    "- **Work:** Work status of the gamer.  \n",
    "- **Degree:** Highest degree attained.  \n",
    "- **Birthplace:** Birthplace.  \n",
    "- **Residence:** Place where the gamer currently resides.  \n",
    "- **Residence_ISO3:** Current residence in ISO3 format.  \n",
    "- **Birthplace_ISO3:** Birthplace in ISO3 format.\n",
    "- **Accept:** Accept terms and conditions (not necessary for any analysis).  \n",
    "\n",
    "#### Psychological Assessment\n",
    "\n",
    "- **GAD1 to GAD7:** Responses to GAD questions 1 to 7.  \n",
    "- **GADE:** Effect of gaming on work.  \n",
    "- **SWL1 to SWL5:** Responses to SWL questions 1 to 5.  \n",
    "- **SPIN1 to SPIN17:** Responses to SPIN questions 1 to 17.  \n",
    "- **Narcissism:** Interest scale in the game (1-5).  \n",
    "- **GAD_T:** GAD Total Score.  \n",
    "- **SWL_T:** SWL Total Score.  \n",
    "- **SPIN_T:** SPIN Total Score.  \n",
    "\n",
    "#### Gaming Habits\n",
    "\n",
    "- **Game:** Name of the game they play.  \n",
    "- **Platform:** Mode of game playing (PC, Console, Mobile, etc.).  \n",
    "- **Hours:** Number of hours in a week devoted to playing.  \n",
    "- **earnings:** Earnings from the game (if any).  \n",
    "- **whyplay:** Reason to play the game.  \n",
    "- **League:** Respondent's current ingame rank.  \n",
    "- **highestleague:** Highest rank attained.  \n",
    "- **streams:** Number of online streaming sessions.\n"
   ]
  },
  {
   "cell_type": "markdown",
   "metadata": {},
   "source": [
    "## Data Cleaning \n",
    "Next, we prepare our dataset for modeling and analysis. "
   ]
  },
  {
   "cell_type": "markdown",
   "metadata": {},
   "source": [
    "#### Pinpoint and Remove Irrelevant Variables\n",
    "We start by removing the following variables:\n",
    "- **League:** This column has inconsistent formatting and its value is not utilized in the study.\n",
    "- **highestleague:** This column is entirely consisting of null values and will not be used.\n",
    "- **Accept:** This column is not neccessary for analysis.\n",
    "- **earnings:** This column is relevant to the study.\n",
    "- **streams:** This column is not relevant to the study.\n",
    "- **Residence:** We will be using Residence_ISO3 instead, as it is formatted more consistently.\n",
    "- **Birthplace:** We will be using Birthplace_ISO3 instead, as it is formatted more consistently."
   ]
  },
  {
   "cell_type": "code",
   "execution_count": null,
   "metadata": {},
   "outputs": [],
   "source": [
    "gamingAnxiety_df = gamingAnxiety_df.drop(columns=['League', 'highestleague', 'accept', 'earnings', 'streams', 'Residence', 'Birthplace'])"
   ]
  },
  {
   "cell_type": "markdown",
   "metadata": {},
   "source": [
    "#### Handling Null Values \n",
    "This section will place focus on the Psychological Assessment variables as well as the gaming habits. To start, we drop variables that are irrelevant to our study. We will then start looking for variables with null values. We do this by iterating over each column and checking how many null-valued cells each of these may have."
   ]
  },
  {
   "cell_type": "code",
   "execution_count": null,
   "metadata": {},
   "outputs": [],
   "source": [
    "nullVariables = gamingAnxiety_df.columns[gamingAnxiety_df.isnull().any()].tolist()\n",
    "gamingAnxiety_df[nullVariables].isnull().sum()"
   ]
  },
  {
   "cell_type": "markdown",
   "metadata": {},
   "source": [
    "Most variables here have a relatively low amount off null values (Less than 5%). Although we could choose to drop this data given how few they are, we will choose to perform imputation to preserve our sample size and maintain the variability of our dataset. Furthermore, if the missing cells are scattered (i.e. many rows only have one or two cells missing), then we may end up dropping a deceptively high amount of rows rather than just a few hundred. At worst, we may end up dropping a number of rows equal to the sum of the number of null values we have. \n",
    "\n",
    "To start, we display numerical summaries of every column with null values in our dataframe and seek out columns with outliers."
   ]
  },
  {
   "cell_type": "code",
   "execution_count": null,
   "metadata": {},
   "outputs": [],
   "source": [
    "summary_stats = gamingAnxiety_df[nullVariables].describe(percentiles=[.25, .50, .75, .99]).round(2)\n",
    "\n",
    "print(\"Summary Statistics Before Imputation:\")\n",
    "print(summary_stats)"
   ]
  },
  {
   "cell_type": "markdown",
   "metadata": {},
   "source": [
    "We can see that Hours has a max value of 8000, but 99% of its values exist under 70. We can further understand this through a boxplot."
   ]
  },
  {
   "cell_type": "code",
   "execution_count": null,
   "metadata": {},
   "outputs": [],
   "source": [
    "sns.boxplot(x=gamingAnxiety_df['Hours'])\n",
    "plt.title('Box Plot of Hours')\n",
    "plt.show()"
   ]
  },
  {
   "cell_type": "markdown",
   "metadata": {},
   "source": [
    "Because there are extreme outliers present that may skew the mean, we will opt to impute according to the median. "
   ]
  },
  {
   "cell_type": "code",
   "execution_count": null,
   "metadata": {},
   "outputs": [],
   "source": [
    "columns_to_impute = ['Hours']\n",
    "\n",
    "for column in columns_to_impute:\n",
    "    gamingAnxiety_df[column] = gamingAnxiety_df[column].fillna(gamingAnxiety_df[column].median())"
   ]
  },
  {
   "cell_type": "markdown",
   "metadata": {},
   "source": [
    "Let's verify that we've successfully performed the imputation:"
   ]
  },
  {
   "cell_type": "code",
   "execution_count": null,
   "metadata": {},
   "outputs": [],
   "source": [
    "gamingAnxiety_df[nullVariables].isnull().sum()"
   ]
  },
  {
   "cell_type": "markdown",
   "metadata": {},
   "source": [
    "Columns Narcisssim and SPIN_T are numerical columns without outliers and are safe to impute according to the mean."
   ]
  },
  {
   "cell_type": "code",
   "execution_count": null,
   "metadata": {},
   "outputs": [],
   "source": [
    "columns_to_impute = ['Narcissism', 'SPIN_T']\n",
    "\n",
    "for column in columns_to_impute:\n",
    "    gamingAnxiety_df[column] = gamingAnxiety_df[column].fillna(gamingAnxiety_df[column].mean())\n"
   ]
  },
  {
   "cell_type": "markdown",
   "metadata": {},
   "source": [
    "Let's verify that we've successfully performed the imputation:"
   ]
  },
  {
   "cell_type": "code",
   "execution_count": null,
   "metadata": {},
   "outputs": [],
   "source": [
    "gamingAnxiety_df[nullVariables].isnull().sum()"
   ]
  },
  {
   "cell_type": "markdown",
   "metadata": {},
   "source": [
    "We cannot use mean imputation for our categorical variables. We would also rather not drop them, for the same reason we do not want to drop our numerical variables. One method of imputation compatible with categorical values we can use is mode imputation. We impute according to the mode below:"
   ]
  },
  {
   "cell_type": "code",
   "execution_count": null,
   "metadata": {},
   "outputs": [],
   "source": [
    "columns_to_impute = ['GADE', 'SPIN1', 'SPIN2', 'SPIN3', 'SPIN4', 'SPIN5', \n",
    "                     'SPIN6', 'SPIN7', 'SPIN8', 'SPIN9', 'SPIN10', \n",
    "                     'SPIN11', 'SPIN12', 'SPIN13', 'SPIN14', 'SPIN15', \n",
    "                     'SPIN16', 'SPIN17', 'Work', 'Degree', 'Reference',\n",
    "                     'Residence_ISO3', 'Birthplace_ISO3']\n",
    "\n",
    "for column in columns_to_impute:\n",
    "    mode_value = gamingAnxiety_df[column].mode().iloc[0]\n",
    "    gamingAnxiety_df[column] = gamingAnxiety_df[column].fillna(mode_value)"
   ]
  },
  {
   "cell_type": "markdown",
   "metadata": {},
   "source": [
    "And again verify that we've successfully imputed the categorical variables we've targetted:"
   ]
  },
  {
   "cell_type": "code",
   "execution_count": null,
   "metadata": {},
   "outputs": [],
   "source": [
    "gamingAnxiety_df[nullVariables].isnull().sum()"
   ]
  },
  {
   "cell_type": "markdown",
   "metadata": {},
   "source": [
    "## Exploratory Data Analysis\n",
    "Exploratory Data Analysis (EDA) is a crucial step in understanding the characteristics and underlying patterns in our dataset. In this study, we conducted a comprehensive EDA to explore the psychological measures of anxiety, life satisfaction, and social phobia among gamers worldwide. "
   ]
  },
  {
   "cell_type": "code",
   "execution_count": null,
   "metadata": {},
   "outputs": [],
   "source": [
    "gamingAnxiety_df.head()"
   ]
  },
  {
   "cell_type": "markdown",
   "metadata": {},
   "source": [
    "## I. Distribution of Key Psychological Measures\n",
    "What is the distribution of anxiety, life satisfaction, and social phobia scores among gamers?\n",
    "\n",
    "To answer this we take have to take a comprehensive look into the psychological state of the respondents and, to analyze the distribution of three key psychological measures: anxiety scores (GAD_T), life satisfaction scores (SWL_T), and social phobia scores (SPIN_T). First we will construct numerical summaries and measure central tendencies, dispersion and correlation between the variables.  We will then use histograms to visualize the frequency distributions of these measures, as they provide an intuitive way to see how scores are spread across different ranges and to identify common patterns and abnormalities."
   ]
  },
  {
   "cell_type": "markdown",
   "metadata": {},
   "source": [
    "### Numerical Summaries:"
   ]
  },
  {
   "cell_type": "code",
   "execution_count": null,
   "metadata": {},
   "outputs": [],
   "source": [
    "vars = ['GAD_T', 'SWL_T', 'SPIN_T']\n",
    "\n",
    "median = gamingAnxiety_df[vars].median().round(2)\n",
    "\n",
    "mode = gamingAnxiety_df[vars].mode().round(2).iloc[0]  \n",
    "\n",
    "summary_stats = gamingAnxiety_df[vars].describe().round(2)\n",
    "\n",
    "summary_stats.loc['median'] = median\n",
    "summary_stats.loc['mode'] = mode\n",
    "\n",
    "print(\"Numerical Summaries of GAD_T, SWL_T and SPIN_T:\")\n",
    "print(summary_stats)\n"
   ]
  },
  {
   "cell_type": "markdown",
   "metadata": {},
   "source": [
    "From the numerical summaries we can see that GAD_T has the smallest mean at 5.21 with the lowest standard deviation, while SWL_T and SPIN_T respectively have similar means of 19.79 and 19.85, however have have different dispersions with standard deviations of 7.23 and 13.14. We can gleam from this that most respondents have low anxiety scores and phobia scores while having middling life satisfaction scores. We can further confirm this through the histograms below."
   ]
  },
  {
   "cell_type": "markdown",
   "metadata": {},
   "source": [
    "### Visualization:"
   ]
  },
  {
   "cell_type": "code",
   "execution_count": null,
   "metadata": {},
   "outputs": [],
   "source": [
    "plt.figure(figsize=(15, 5))\n",
    "\n",
    "plt.subplot(1, 3, 1)\n",
    "sns.histplot(gamingAnxiety_df['GAD_T'], kde=True, bins=30)\n",
    "plt.title('Distribution of Anxiety Scores (GAD_T)')\n",
    "plt.xlabel('Anxiety Score')\n",
    "plt.ylabel('No. of Respondents')\n",
    "\n",
    "plt.subplot(1, 3, 2)\n",
    "sns.histplot(gamingAnxiety_df['SWL_T'], kde=True, bins=30)\n",
    "plt.title('Distribution of Life Satisfaction Scores (SWL_T)')\n",
    "plt.xlabel('Life Satisfaction Score')\n",
    "plt.ylabel('No. of Respondents')\n",
    "\n",
    "plt.subplot(1, 3, 3)\n",
    "sns.histplot(gamingAnxiety_df['SPIN_T'], kde=True, bins=30)\n",
    "plt.title('Distribution of Social Phobia Scores (SPIN_T)')\n",
    "plt.xlabel('Social Phobia Score')\n",
    "plt.ylabel('No. of Respondents')\n",
    "\n",
    "plt.tight_layout()\n",
    "plt.show()\n"
   ]
  },
  {
   "cell_type": "markdown",
   "metadata": {},
   "source": [
    "## Explanation : \n",
    "The data given shows that the anxiety frequency distribution has most respondents have lower anxiety score. The distribution of anxiety scores shows that most of the respondents medium to high life satisfaction scores. Lastly, the social phobia scores shows that most respondents have a lower phobia scores, with fewer respondents reporting higher levels of social phobia.\n",
    "\n",
    "Let's explain it more. For the anxiety frequency distribution or the GAD-T, it shows a right-skewed distribution that indicates most repsondents have lower anxiety scores, The distribution helps us understand that anxiety levels are generally low among the respondents, with some outliers experiencing higher levels of anxiety. We can apply this data by analyzing this distrubtion, we can identify the proportion of respondents experiencing varying degrees of anxiety, which can help in data gathering and usage. For the Life Satisfaction scores, or the SWL_T, the histogram displays the distribution with a slightly left-skewed shape suggesting most respondents have moderate to high life satisfaction, or they're currently happy with their lives right now. This shows that the overall sample of respondents have a overall well-being. Now for the Social Phobia Scores or SPIN_T, the histogram shows the distribution is a right-skewed shape indicating that most repsondents have a lower social phobia score. Showing that social anxiety is not a significant issue for most of the respondents, with only a small minority experiencing high levels of social phobia. "
   ]
  },
  {
   "cell_type": "markdown",
   "metadata": {},
   "source": [
    "## Conclusion:\n",
    "According to the data given, the distribution when it comes to the GAD-T shows that most of the respondents have lower anxiety scores, we can assume that majority of the respondents do not have any problems with anxiety. Same with the others, as the graph shows that the SWL-T although left-skewed shows that majority of the respondents are quite happy with their lives. SPIN-T graphs shows that majority of the respondents do not suffer from social phobia and only a small minority do. "
   ]
  },
  {
   "cell_type": "markdown",
   "metadata": {},
   "source": [
    "##  Gaming Hours\n",
    "Here, we seek to answer the question \"Do gaming hours per week correlate with anxiety, life satisfaction, and social phobia scores?\""
   ]
  },
  {
   "cell_type": "markdown",
   "metadata": {},
   "source": [
    "### Numerical Summaries:"
   ]
  },
  {
   "cell_type": "code",
   "execution_count": null,
   "metadata": {},
   "outputs": [],
   "source": [
    "vars = ['Hours', 'GAD_T', 'SWL_T', 'SPIN_T']\n",
    "\n",
    "median = gamingAnxiety_df[vars].median().round(2)\n",
    "\n",
    "mode = gamingAnxiety_df[vars].mode().round(2).iloc[0]  \n",
    "\n",
    "summary_stats = gamingAnxiety_df[vars].describe().round(2)\n",
    "\n",
    "summary_stats.loc['median'] = median\n",
    "summary_stats.loc['mode'] = mode\n",
    "\n",
    "correlations = gamingAnxiety_df[['Hours', 'GAD_T', 'SWL_T', 'SPIN_T']].corr().round(2)\n",
    "\n",
    "print(\"Numerical Summaries of GAD_T, SWL_T and SPIN_T:\")\n",
    "print(summary_stats)\n",
    "\n",
    "print(\"\\nCorrelations between variables:\")\n",
    "print(correlations)"
   ]
  },
  {
   "cell_type": "markdown",
   "metadata": {},
   "source": [
    "From the numerical summaries we can see that hours has the a median of 20, which is more representative of its average as it has extreme outliers, explaining its high standard deviation of 70.21. Assessing the correlation coefficients between our variables, we can see that none of our variables have correlation coefficients above 0.50, suggesting that there is little to no correlation between them. We can further understand this through scatterplots. "
   ]
  },
  {
   "cell_type": "markdown",
   "metadata": {},
   "source": [
    "### Visualization:"
   ]
  },
  {
   "cell_type": "code",
   "execution_count": null,
   "metadata": {},
   "outputs": [],
   "source": [
    "gamingAnxiety_df = gamingAnxiety_df[gamingAnxiety_df['Hours'] <= 200]\n",
    "plt.figure(figsize=(15, 5))\n",
    "\n",
    "plt.subplot(1, 3, 1)\n",
    "sns.scatterplot(x='Hours', y='GAD_T', data=gamingAnxiety_df)\n",
    "plt.title('Gaming Hours per Week vs Anxiety Scores')\n",
    "plt.xlabel('Gaming Hours per Week')\n",
    "plt.ylabel('Anxiety Score')\n",
    "\n",
    "plt.subplot(1, 3, 2)\n",
    "sns.scatterplot(x='Hours', y='SWL_T', data=gamingAnxiety_df)\n",
    "plt.title('Gaming Hours per Week vs Life Satisfaction Scores')\n",
    "plt.xlabel('Gaming Hours per Week')\n",
    "plt.ylabel('Life Satisfaction Score')\n",
    "\n",
    "plt.subplot(1, 3, 3)\n",
    "sns.scatterplot(x='Hours', y='SPIN_T', data=gamingAnxiety_df)\n",
    "plt.title('Gaming Hours per Week vs Social Phobia Scores')\n",
    "plt.xlabel('Gaming Hours per Week')\n",
    "plt.ylabel('Social Phobia Score')\n",
    "\n",
    "plt.tight_layout()\n",
    "plt.show()"
   ]
  },
  {
   "cell_type": "markdown",
   "metadata": {},
   "source": [
    "## Explanation\n",
    "Scatterplots are best used when trying to visualize a relationship between two continous variables. Here we attempt to visualize any potential relationship between GAD_T, SPIN_T, and SWL_T.\n",
    "\n",
    "From visuals alone, there is no obvious trend between gaming hours per week and these variables. One thing of note, however, is that the dots tend to be concentrated towards the left side of the graph. This skewness does indicate that the dataset represents more observations with lower gaming hours per week. Besides this, there is little more that can be gathered from looking at the graph alone.\n",
    "\n",
    "## Conclusion:\n",
    "Attempting to visualize potential relationships between gaming hours and anxiety, social phobia, and life satisfaction shows no clear trend. However, the concentration of dots on the left suggests lower gaming hours overall."
   ]
  },
  {
   "cell_type": "markdown",
   "metadata": {},
   "source": [
    "## III. Demographic breakdown (Age, Gender, Nationality) of Gamers\n",
    "What is the demographic breakdown (age, gender, nationality) of gamers in the survey?\n",
    "For this we can barplot the entire dataset to see the density of the respondents and where they live."
   ]
  },
  {
   "cell_type": "markdown",
   "metadata": {},
   "source": [
    "### Numerical Summaries:"
   ]
  },
  {
   "cell_type": "code",
   "execution_count": null,
   "metadata": {},
   "outputs": [],
   "source": [
    "vars = ['Age', 'Gender', 'Birthplace_ISO3']\n",
    "\n",
    "mode = gamingAnxiety_df[vars].mode().iloc[0]\n",
    "\n",
    "summary_stats_age = gamingAnxiety_df['Age'].describe().round(2)\n",
    "\n",
    "summary_stats_age['median'] = round(gamingAnxiety_df['Age'].median(),2)\n",
    "summary_stats_age['mode'] = mode['Age']\n",
    "\n",
    "summary_stats_gender = gamingAnxiety_df['Gender'].value_counts().to_frame(name='count')\n",
    "summary_stats_birthplace = gamingAnxiety_df['Birthplace_ISO3'].value_counts().to_frame(name='count')\n",
    "\n",
    "print(\"Summary Statistics for Age:\")\n",
    "print(summary_stats_age)\n",
    "\n",
    "print(\"\\nMode for Gender and Birthplace_ISO3:\")\n",
    "print(mode[['Gender', 'Birthplace_ISO3']])\n",
    "\n",
    "print(\"\\nValue Counts for Gender:\")\n",
    "print(summary_stats_gender)\n",
    "\n",
    "print(\"\\nValue Counts for Birthplace_ISO3:\")\n",
    "print(summary_stats_birthplace)\n"
   ]
  },
  {
   "cell_type": "markdown",
   "metadata": {},
   "source": [
    "From the numerical summaries we can see that most respondents are age 18-21, Male and reside in the USA. There is an abundance of male respondents, with 12699 males outnumbering 713 females, with an extreme minority of respondents listed as 'Other'. The spread of nationalities is similar to the two, with USA respondents outnumbering the second highest answered nationality, Germany, at 4380 to 1376. We can further understand these demographics through a barplot."
   ]
  },
  {
   "cell_type": "markdown",
   "metadata": {},
   "source": [
    "### Visualization:"
   ]
  },
  {
   "cell_type": "code",
   "execution_count": null,
   "metadata": {},
   "outputs": [],
   "source": [
    "plt.figure(figsize=(15, 5))\n",
    "plt.subplot(1, 3, 1)\n",
    "sns.histplot(gamingAnxiety_df['Age'], kde=True, bins=30)\n",
    "plt.title('Distribution of Age')\n",
    "plt.xlabel('Age')\n",
    "plt.ylabel('Frequency')\n",
    "\n",
    "plt.subplot(1, 3, 2)\n",
    "sns.countplot(x='Gender', data=gamingAnxiety_df)\n",
    "plt.title('Gender Distribution')\n",
    "plt.xlabel('Gender')\n",
    "plt.ylabel('Count')\n",
    "\n",
    "plt.subplot(1, 3, 3)\n",
    "top_nationalities = gamingAnxiety_df['Birthplace_ISO3'].value_counts().head(10)\n",
    "sns.barplot(x=top_nationalities.index, y=top_nationalities.values)\n",
    "plt.title('Top 10 Nationalities')\n",
    "plt.xlabel('Nationality')\n",
    "plt.ylabel('Count')\n",
    "plt.xticks(rotation=45)\n",
    "\n",
    "plt.tight_layout()\n",
    "plt.show()"
   ]
  },
  {
   "cell_type": "markdown",
   "metadata": {},
   "source": [
    "## Explanation\n",
    "With the first graph being the age distribution we can see that the majority of the respondents are in their mid-20s, with fewer respondents on the outliers, being younger and older age extremes. The second graph shows the counts of male, female and other respondents. It is apparent that the respondents of this dataset is majorly males, with smaller proportions of female and other genders. The last graph being the top 10 nationalities of respondents. These are namely USA, Germany, UK, Canada, Netherlands, France, Sweden, Poland, Brazil and Portugal.\n",
    "\n",
    "Let's dive in deeper in the graphs. The first graph shows that the peak respondent age is mid-20s, this shows that the age group is highly represented in this sampling, then we have more extremes reaching up to 60, showing that gaming is not a phase but a passion for some people. The second graph shows that majority of the respondents are male, we can use this for mental health data research and in indentifying target demographics. The last graph is again, the Top 10 Nationalities, showing USA as first, then Germany. The data also shows that 80% of the Top 10 countries are in Europe.\n"
   ]
  },
  {
   "cell_type": "markdown",
   "metadata": {},
   "source": [
    "## Conclusion\n",
    "The vast majoriy of gamers from the dataset are below the age of 20, Male, and from the USA."
   ]
  },
  {
   "cell_type": "markdown",
   "metadata": {},
   "source": [
    "## IV. Distribution of Preferred Gaming Device, Game Genre, and Psychological Measures"
   ]
  },
  {
   "cell_type": "markdown",
   "metadata": {},
   "source": [
    "### Numerical Summaries:"
   ]
  },
  {
   "cell_type": "code",
   "execution_count": null,
   "metadata": {},
   "outputs": [],
   "source": [
    "vars = ['Platform', 'Game', 'GAD_T', 'SWL_T', 'SPIN_T']\n",
    "\n",
    "mode = gamingAnxiety_df[vars].mode().iloc[0]\n",
    "\n",
    "numerical_vars = ['GAD_T', 'SWL_T', 'SPIN_T']\n",
    "summary_stats_numerical = gamingAnxiety_df[numerical_vars].describe().round(2)\n",
    "\n",
    "median = gamingAnxiety_df[numerical_vars].median().round(2)\n",
    "\n",
    "summary_stats_numerical.loc['median'] = median\n",
    "summary_stats_numerical.loc['mode'] = mode[numerical_vars]\n",
    "summary_stats_numerical = summary_stats_numerical.round(2)\n",
    "summary_stats_platform = gamingAnxiety_df['Platform'].value_counts().to_frame(name='count')\n",
    "summary_stats_game = gamingAnxiety_df['Game'].value_counts().to_frame(name='count')\n",
    "\n",
    "print(\"Summary Statistics for Numerical Variables:\")\n",
    "print(summary_stats_numerical)\n",
    "\n",
    "print(\"\\nMode for Categorical Variables:\")\n",
    "print(mode[['Platform', 'Game']])\n",
    "\n",
    "print(\"\\nValue Counts for Platform:\")\n",
    "print(summary_stats_platform)\n",
    "\n",
    "print(\"\\nValue Counts for Game:\")\n",
    "print(summary_stats_game)"
   ]
  },
  {
   "cell_type": "markdown",
   "metadata": {},
   "source": [
    "From the numerical summaries we can see that most respondents play on PC and play League of Legends. PC players outnumber the second closest platform, console players at 13218 to 222. Similarly, League of Legends players have the highest number of respondents playing it, with the closest second being 'Other', suggesting 1020 players play a game that might not be listed in the survey. We can understand these statistics better through boxplots."
   ]
  },
  {
   "cell_type": "markdown",
   "metadata": {},
   "source": [
    "### Visualization:"
   ]
  },
  {
   "cell_type": "code",
   "execution_count": null,
   "metadata": {},
   "outputs": [],
   "source": [
    "# Preferred gaming device and psychological measures\n",
    "plt.figure(figsize=(15, 10))\n",
    "\n",
    "# Device vs Anxiety\n",
    "plt.subplot(3, 1, 1)\n",
    "sns.boxplot(x='Platform', y='GAD_T', data=gamingAnxiety_df)\n",
    "plt.title('Preferred Gaming Device vs Anxiety Scores')\n",
    "plt.xlabel('Gaming Device')\n",
    "plt.ylabel('Anxiety Score')\n",
    "\n",
    "# Device vs Life Satisfaction\n",
    "plt.subplot(3, 1, 2)\n",
    "sns.boxplot(x='Platform', y='SWL_T', data=gamingAnxiety_df)\n",
    "plt.title('Preferred Gaming Device vs Life Satisfaction Scores')\n",
    "plt.xlabel('Gaming Device')\n",
    "plt.ylabel('Life Satisfaction Score')\n",
    "\n",
    "# Device vs Social Phobia\n",
    "plt.subplot(3, 1, 3)\n",
    "sns.boxplot(x='Platform', y='SPIN_T', data=gamingAnxiety_df)\n",
    "plt.title('Preferred Gaming Device vs Social Phobia Scores')\n",
    "plt.xlabel('Gaming Device')\n",
    "plt.ylabel('Social Phobia Score')\n",
    "\n",
    "plt.tight_layout()\n",
    "plt.show()\n",
    "\n",
    "# Game genre and psychological measures\n",
    "plt.figure(figsize=(15, 10))\n",
    "\n",
    "# Genre vs Anxiety\n",
    "plt.subplot(3, 1, 1)\n",
    "sns.boxplot(x='Game', y='GAD_T', data=gamingAnxiety_df)\n",
    "plt.title('Game Genre vs Anxiety Scores')\n",
    "plt.xlabel('Game Genre')\n",
    "plt.ylabel('Anxiety Score')\n",
    "plt.xticks(rotation=45)\n",
    "\n",
    "# Genre vs Life Satisfaction\n",
    "plt.subplot(3, 1, 2)\n",
    "sns.boxplot(x='Game', y='SWL_T', data=gamingAnxiety_df)\n",
    "plt.title('Game Genre vs Life Satisfaction Scores')\n",
    "plt.xlabel('Game Genre')\n",
    "plt.ylabel('Life Satisfaction Score')\n",
    "plt.xticks(rotation=45)\n",
    "\n",
    "# Genre vs Social Phobia\n",
    "plt.subplot(3, 1, 3)\n",
    "sns.boxplot(x='Game', y='SPIN_T', data=gamingAnxiety_df)\n",
    "plt.title('Game Genre vs Social Phobia Scores')\n",
    "plt.xlabel('Game Genre')\n",
    "plt.ylabel('Social Phobia Score')\n",
    "plt.xticks(rotation=45)\n",
    "\n",
    "plt.tight_layout()\n",
    "plt.show()\n"
   ]
  },
  {
   "cell_type": "markdown",
   "metadata": {},
   "source": [
    "## Explanation:\n",
    "A boxplot is extremely useful here as it displays a range of data and highlights central tendency, and how differeng genres and platforms may affect these.\n",
    "\n",
    "The graph shows that in mobile users tend to have GAD_T, SWL_T and SPIN_T scores compared to PC and console users. Interestingly, PC players noticeably have more outliers compared to the rest, leaning towards high GAD_T and SPIN_T.\n",
    "\n",
    "Though there are differences in the median scores, the most striking observations about the game genre graphs are the high amount of outliers presenting high GAD_T and high SPIN_T scores for games like League of Legends and Counter Strike, games known to be highly competitive. This may present an opportunity for feature engineering, classifying the games with regards to how competitive they are.\n",
    "\n",
    "## Conclusion:\n",
    "\n",
    "Anxiety, Social Phobia and Satisfaction with life tends to be higher for mobile users. High-score outliers are also noticeable with regards to social phobia and anxiety for competitive games."
   ]
  },
  {
   "cell_type": "markdown",
   "metadata": {},
   "source": [
    "### Research Question\n",
    "After going through the Exploratory Data Analysis, our final research question is as follows:\n",
    "- **How are different gaming devices and genres related to psychological statistics?**\n",
    "\n",
    "\n",
    "\n",
    "<br><br><br><br><br>\n",
    "\n"
   ]
  },
  {
   "cell_type": "markdown",
   "metadata": {},
   "source": [
    "# Data Modelling\n",
    "\n",
    "To answer our research question, we will perform association rule mining. This is helpful as it can help us find any hidden patterns that might exist within the dataset. Before we proceed, we'll have to do some preprocessing to ensure our data is usable.\n",
    "\n",
    "\n",
    "#### Preprocessing\n",
    "We'll start with the games. For our list of games to be useable by our algorithms, we'll perform one-hot encoding to represent each game."
   ]
  },
  {
   "cell_type": "code",
   "execution_count": null,
   "metadata": {},
   "outputs": [],
   "source": [
    "games_df = pd.get_dummies(gamingAnxiety_df['Game'])\n",
    "games_df"
   ]
  },
  {
   "cell_type": "markdown",
   "metadata": {},
   "source": [
    "We'll do the same for the platforms:"
   ]
  },
  {
   "cell_type": "code",
   "execution_count": null,
   "metadata": {},
   "outputs": [],
   "source": [
    "platform_df = pd.get_dummies(gamingAnxiety_df['Platform'])\n",
    "platform_df"
   ]
  },
  {
   "cell_type": "markdown",
   "metadata": {},
   "source": [
    "#### Feature Engineering\n",
    "If we want to do the same for our psychological statistics, we'll need to bin them first according to each score's appropriate evaluation.\n",
    "\n",
    "First, we'll perform this for the GAD scores, and give each score its [appropriate label.](https://adaa.org/sites/default/files/GAD-7_Anxiety-updated_0.pdf) GAD scores from 0 to 4 will be labeled \"Minimal Anxiety,\" scores from 5 to 9 \"Mild Anxiety\" and so on.\n",
    "\n"
   ]
  },
  {
   "cell_type": "code",
   "execution_count": null,
   "metadata": {},
   "outputs": [],
   "source": [
    "# Assign a label for each level of anxiety\n",
    "def categorizeAnxiety(score):\n",
    "    if score >= 0 and score <= 4:\n",
    "        return 'Minimal Anxiety'\n",
    "    elif score >= 5 and score <= 9:\n",
    "        return 'Mild Anxiety'\n",
    "    elif score >= 10 and score <= 14:\n",
    "        return 'Moderate Anxiety'\n",
    "    elif score >= 15 and score <= 21:\n",
    "        return 'Severe Anxiety'\n",
    "    else:\n",
    "        return 'Invalid Score'\n",
    "\n",
    "#Create new column with categorized Anxiety\n",
    "gamingAnxiety_df['Anxiety_Level'] = gamingAnxiety_df['GAD_T'].apply(categorizeAnxiety)\n",
    "\n",
    "#Display newly created  Column\n",
    "gadt_df = gamingAnxiety_df['Anxiety_Level']\n",
    "print(gadt_df)"
   ]
  },
  {
   "cell_type": "markdown",
   "metadata": {},
   "source": [
    "Now that we've successfully categorized the anxiety levels, we'll use one-hot encoding to represent the data:"
   ]
  },
  {
   "cell_type": "code",
   "execution_count": null,
   "metadata": {},
   "outputs": [],
   "source": [
    "gadt_df = pd.get_dummies(gadt_df)\n",
    "gadt_df"
   ]
  },
  {
   "cell_type": "markdown",
   "metadata": {},
   "source": [
    "We will then perform the same binning method for both [SPIN](https://greenspacehealth.com/en-us/social-anxiety-spin/) and [SWL.](https://fetzer.org/sites/default/files/images/stories/pdf/selfmeasures/SATISFACTION-SatisfactionWithLife.pdf)"
   ]
  },
  {
   "cell_type": "code",
   "execution_count": null,
   "metadata": {},
   "outputs": [],
   "source": [
    "# Assign a label for each level of social phobia\n",
    "def categorizeSocialPhobia(score):\n",
    "    if score >= 0 and score <= 20:\n",
    "        return 'No Social Phobia'\n",
    "    elif score >= 21 and score <= 30:\n",
    "        return 'Mild Social Phobia'\n",
    "    elif score >= 31 and score <= 40:\n",
    "        return 'Moderate Social Phobia'\n",
    "    elif score >= 41 and score <= 50:\n",
    "        return 'Severe Social Phobia'\n",
    "    elif score >= 51 and score <= 68:\n",
    "        return 'Very Severe Social Phobia'\n",
    "    else:\n",
    "        return 'Invalid Score'\n",
    "\n",
    "#Create new column with categorized Anxiety\n",
    "gamingAnxiety_df['SocialPhobia'] = gamingAnxiety_df['SPIN_T'].apply(categorizeSocialPhobia)\n",
    "\n",
    "#Display newly created  Column\n",
    "spint_df = gamingAnxiety_df['SocialPhobia']\n",
    "spint_df = pd.get_dummies(spint_df)"
   ]
  },
  {
   "cell_type": "code",
   "execution_count": null,
   "metadata": {},
   "outputs": [],
   "source": [
    "# Assign a label for each level of social phobia\n",
    "def categorizeLifeSatisfaction(score):\n",
    "    if score >= 5 and score <= 9:\n",
    "        return 'Extreme Life Dissatisfaction'\n",
    "    elif score >= 10 and score <= 14:\n",
    "        return 'Moderate Life Dissatisfaction'\n",
    "    elif score >= 15 and score <= 19:\n",
    "        return 'Slight Life Dissatisfaction'\n",
    "    elif score == 20:\n",
    "        return 'Neutral Life Satisfaction'\n",
    "    elif score >= 21 and score <= 25:\n",
    "        return 'Slight Life Satisfaction'\n",
    "    elif score >= 26 and score <= 30:\n",
    "        return 'Moderate Life Satisfaction'\n",
    "    elif score >= 31 and score <= 35:\n",
    "        return 'Extreme Life Satisfaction'\n",
    "    else:\n",
    "        return 'Invalid Score'\n",
    "\n",
    "#Create new column with categorized Anxiety\n",
    "gamingAnxiety_df['Life Satisfaction'] = gamingAnxiety_df['SWL_T'].apply(categorizeLifeSatisfaction)\n",
    "\n",
    "#Display newly created  Column\n",
    "swlt_df = gamingAnxiety_df['Life Satisfaction']\n",
    "swlt_df= pd.get_dummies(swlt_df)"
   ]
  },
  {
   "cell_type": "markdown",
   "metadata": {},
   "source": [
    "## Association Rule Mining\n",
    "\n",
    "With preprocessing finished, we can proceed with data mining. To start, we will generate the frequent itemsets for our dataframes. We do this by first organizing the dataframes we want to generate frequentsets from."
   ]
  },
  {
   "cell_type": "code",
   "execution_count": null,
   "metadata": {},
   "outputs": [],
   "source": [
    "#Combine Anxiety, Social Phobia, and Life Satisfaction Dataframe\n",
    "psych_df = pd.concat([gadt_df, spint_df, swlt_df], axis = 1)\n",
    "\n",
    "#Combine Pysch Stats with games and platfor dataframes\n",
    "psychToGames = pd.concat([psych_df, games_df], axis = 1)\n",
    "psychToPlatform = pd.concat([psych_df, platform_df], axis = 1)\n",
    "\n",
    "print(psychToGames)\n",
    "print(psychToPlatform)"
   ]
  },
  {
   "cell_type": "markdown",
   "metadata": {},
   "source": [
    "We can finally generate our frequent itemsets. We will be using *apriori* and *association_rules* from the *mlxtend* library. We'll generate a frequent_itemsets dataframe using Psych stats as well as Game Genre stats."
   ]
  },
  {
   "cell_type": "code",
   "execution_count": null,
   "metadata": {},
   "outputs": [],
   "source": [
    "from mlxtend.frequent_patterns import apriori, association_rules\n",
    "\n",
    "frequent_itemsets = apriori(psychToGames, min_support = 0.2, use_colnames = True)\n",
    "frequent_itemsets"
   ]
  },
  {
   "cell_type": "markdown",
   "metadata": {},
   "source": [
    "With our frequent itemsets having been generated, we can finally proceed with association rule mining:"
   ]
  },
  {
   "cell_type": "code",
   "execution_count": null,
   "metadata": {},
   "outputs": [],
   "source": [
    "association_rules(frequent_itemsets, metric = \"confidence\", min_threshold = 0.6)[['antecedents', 'consequents', 'support', 'confidence']]"
   ]
  },
  {
   "cell_type": "markdown",
   "metadata": {},
   "source": [
    "We can apply the same process, this time comparing Psych stats to Platform"
   ]
  },
  {
   "cell_type": "code",
   "execution_count": null,
   "metadata": {},
   "outputs": [],
   "source": [
    "frequent_itemsets = apriori(psychToPlatform, min_support = 0.2, use_colnames = True)\n",
    "association_rules(frequent_itemsets, metric = \"confidence\", min_threshold = 0.6)[['antecedents', 'consequents', 'support', 'confidence']]"
   ]
  },
  {
   "cell_type": "markdown",
   "metadata": {},
   "source": [
    "## Statistical Inference"
   ]
  },
  {
   "cell_type": "markdown",
   "metadata": {},
   "source": [
    "Upon analyzing the research question, we are presented with two independent variables Game and Platform, and dependent variables GAD_T, SWL_T, and SPIN_T. However, Game and Platform are not independent of each other, as a chosen Game may only be available on certain Platforms (i.e. League of Legends is strictly a PC Game) and vice versa. We can perform one-way ANOVA tests between the two independent variables and psychological measures to see if there is a significant difference in gaming-related anxiety levels across different gaming devices and genres. Our hypotheses are laid out as follows:\n",
    "\n",
    "**Null Hypothesis (H0)**: There is no significant difference in gaming-related anxiety levels across different gaming devices and genres among various demographic groups. This is determined by an alpha level of <=0.05.\n",
    "\n",
    "**Alternative Hypothesis (Ha)**: There is a significant difference in gaming-related anxiety levels across different gaming devices and genres among various demographic groups. This is determined by an alpha level of >0.05."
   ]
  },
  {
   "cell_type": "code",
   "execution_count": null,
   "metadata": {},
   "outputs": [],
   "source": [
    "import statsmodels.api as sm\n",
    "from statsmodels.formula.api import ols\n",
    "from statsmodels.stats.multicomp import pairwise_tukeyhsd\n",
    "\n",
    "data = gamingAnxiety_df\n",
    "\n",
    "data_lm = ols('GAD_T ~ C(Game)', data=data).fit()\n",
    "table = sm.stats.anova_lm(data_lm)\n",
    "print(\"ANOVA Results for GAD_T and Game:\\n\", table)\n",
    "\n",
    "\n",
    "data_lm = ols('GAD_T ~ C(Platform)', data=data).fit()\n",
    "table = sm.stats.anova_lm(data_lm)\n",
    "print(\"\\n\\nANOVA Results for GAD_T and Platform:\\n\",table)\n"
   ]
  },
  {
   "cell_type": "markdown",
   "metadata": {},
   "source": [
    "#### Statistical Inference Results\n",
    "* df: Degrees of Freedom (number of categories - 1).\n",
    "* sum_sq: Total Variability.\n",
    "* mean_sq: Average Variance.\n",
    "* F: Measure of Variability in GAD_T between the categories of the independent variable.\n",
    "* PR(>F): P-value.\n",
    "* a: Alpha level, typically 0.05. Threshold for our p-value.\n",
    "\n",
    "In our first one-way ANOVA test, we can see that our p-value is 0.08. This is higher than our alpha level of 0.05, indicating that we cannot disprove the null hypothesis. This suggests that there is no significant difference in gaming-related anxiety levels across different games.\n",
    "\n",
    "In our second one-way ANOVA test, we can see that our p-value is 0.01. This is much lower than our alpha level of 0.05, indicating that we can reject the null hypothesis and accept the alternative hypothesis. This suggests that there is a significant difference in gaming-related anxiety levels across different gaming devices."
   ]
  },
  {
   "cell_type": "code",
   "execution_count": null,
   "metadata": {},
   "outputs": [],
   "source": [
    "tukey_result = pairwise_tukeyhsd(endog=gamingAnxiety_df['GAD_T'], groups=gamingAnxiety_df['Platform'], alpha=0.05)\n",
    "\n",
    "print(tukey_result)"
   ]
  },
  {
   "cell_type": "markdown",
   "metadata": {},
   "source": [
    "#### Post-Hoc Test Results\n",
    "* meandiff: Difference in means between the two groups.\n",
    "* p-adj: Adjusted p-values for comparisons.\n",
    "* lower: Lower bound of the confidence interval for the mean difference.\n",
    "* upper: Upper bound of the confidence interval for the mean difference.\n",
    "* reject: Boolean indicating whether or not to reject the null hypothesis."
   ]
  },
  {
   "cell_type": "markdown",
   "metadata": {},
   "source": [
    "We can see that when comparing Console and PC in terms of GAD_T, our adjusted p-value is 0.66, which is higher than our alpha level of 0.05, therefore being unable to reject the null hypothesis. We can also observe a lower bound of -1.03 and an upper bound of 0.47, resulting in a confidence interval containing zero. This also supports the result that there is no statistically significant difference in gaming-related anxiety levels between the platforms Console and PC.\n",
    "\n",
    "When comparing Console and Smartphone / Tablet however, we observe a lower p-adj of 0.40, which is lower than our alpha level. Our confidence interval does not contain 0 as it is from 0.09 to 5.03. Therefore we reject the null hypothesis and accept that there is a significant difference in gaming-related anxiety levels between the platforms Console and Smartphone / Tablet.\n",
    "\n",
    "Lastly, when comparing PC and to Smartphone / Tablet, we also observe a low p-adj of 0.13 paired with a confidence interval that does not include 0. We can therefore conclude that there is a significant difference in gaming-related anxiety levels between the platforms PC and Smartphone / Tablet. \n",
    "\n",
    "Upon observing the meandiff between Console and Smartphone / Tablet, we get a value of 2.56. This means that Smartphone / Tablet respondents have higher GAD_T scores compared to that of Console by approximately 2.56 points. Similarly, the meandiff between PC and Smartphone / Tablet is 2.84, meaning that Smartphone / Tablet respondents have higher GAD_T scores by an average of 2.84 points over PC respondents."
   ]
  }
 ],
 "metadata": {
  "kernelspec": {
   "display_name": "Python 3 (ipykernel)",
   "language": "python",
   "name": "python3"
  },
  "language_info": {
   "codemirror_mode": {
    "name": "ipython",
    "version": 3
   },
   "file_extension": ".py",
   "mimetype": "text/x-python",
   "name": "python",
   "nbconvert_exporter": "python",
   "pygments_lexer": "ipython3",
   "version": "3.12.4"
  }
 },
 "nbformat": 4,
 "nbformat_minor": 4
}
